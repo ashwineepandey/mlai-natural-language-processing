{
 "cells": [
  {
   "cell_type": "code",
   "execution_count": 30,
   "metadata": {},
   "outputs": [],
   "source": [
    "import numpy as np\n",
    "import pandas as pd\n",
    "from sklearn.model_selection import train_test_split\n",
    "from collections import defaultdict\n",
    "import plotly.express as px\n",
    "from typing import List, Tuple, Dict, Union\n",
    "import log\n",
    "import mynlputils as nu"
   ]
  },
  {
   "cell_type": "code",
   "execution_count": 2,
   "metadata": {},
   "outputs": [],
   "source": [
    "logger = log.get_logger(__name__)"
   ]
  },
  {
   "cell_type": "code",
   "execution_count": 3,
   "metadata": {},
   "outputs": [],
   "source": [
    "def load_data(raw_txt_train_path: str, raw_txt_test_path: str) -> Tuple[pd.DataFrame, pd.DataFrame]:\n",
    "    df_train = pd.read_excel(raw_txt_train_path)\n",
    "    df_test = pd.read_excel(raw_txt_test_path)\n",
    "    logger.info(f\"df_train.shape: {df_train.shape}\")\n",
    "    logger.info(f\"df_train unique tokens: {df_train['Token'].nunique()}\")\n",
    "    logger.info(f\"df_train unique POS: {df_train['POS'].nunique()}\")\n",
    "    logger.info(f\"df_test.shape: {df_test.shape}\")\n",
    "    logger.info(f\"df_test unique tokens: {df_test['Token'].nunique()}\")\n",
    "    logger.info(f\"df_test unique POS: {df_test['POS'].nunique()}\")\n",
    "    return df_train, df_test\n",
    "\n",
    "\n",
    "def remove_punctuation(data: pd.DataFrame):\n",
    "    \"\"\"\n",
    "    Removes rows with 'PUNCT' in the 'POS' column from the dataset.\n",
    "\n",
    "    Args:\n",
    "    data (pd.DataFrame): DataFrame containing the tokenized isiZulu data with 'Token' and 'POS' columns.\n",
    "\n",
    "    Returns:\n",
    "    pd.DataFrame: DataFrame with rows containing 'PUNCT' removed.\n",
    "    \"\"\"\n",
    "    return data[data['POS'] != 'PUNCT']\n",
    "\n",
    "\n",
    "def split_into_sentences(df: pd.DataFrame) -> List[pd.DataFrame]:\n",
    "    \"\"\"\n",
    "    Splits a DataFrame into a list of DataFrames each representing a sentence.\n",
    "    Adds start and stop tokens to each sentence.\n",
    "\n",
    "    Args:\n",
    "    df (pd.DataFrame): DataFrame containing the tokenized isiZulu data with 'Token' and 'POS' columns.\n",
    "\n",
    "    Returns:\n",
    "    List[pd.DataFrame]: List of DataFrames each representing a sentence.\n",
    "    \"\"\"\n",
    "    df['Sentence'] = (df['Token'].isna().cumsum())\n",
    "    df = df.dropna()\n",
    "    sentences = [group for _, group in df.groupby('Sentence')]\n",
    "    for i in range(len(sentences)):\n",
    "        start_token = pd.DataFrame([['<s>', 'START']], columns=['Token', 'POS'])\n",
    "        stop_token = pd.DataFrame([['<\\s>', 'STOP']], columns=['Token', 'POS'])\n",
    "        sentences[i] = pd.concat([start_token, sentences[i], stop_token], ignore_index=True)\n",
    "    return sentences\n",
    "\n",
    "def create_validation_set(sentences: List[pd.DataFrame], valid_size: float = 0.2) -> Tuple[List[pd.DataFrame], List[pd.DataFrame]]:\n",
    "    \"\"\"\n",
    "    Creates a validation set from a list of DataFrames each representing a sentence.\n",
    "\n",
    "    Args:\n",
    "    sentences (List[pd.DataFrame]): List of DataFrames each representing a sentence.\n",
    "    valid_size (float): Proportion of sentences to include in the validation set.\n",
    "\n",
    "    Returns:\n",
    "    Tuple[List[pd.DataFrame], List[pd.DataFrame]]: Training and validation sets.\n",
    "    \"\"\"\n",
    "    train_sentences, valid_sentences = train_test_split(sentences, test_size=valid_size, random_state=1)\n",
    "    return train_sentences, valid_sentences\n",
    "\n",
    "\n",
    "class HMM:\n",
    "    def __init__(self):\n",
    "        self.transition_probs = dict()\n",
    "        self.emission_probs = dict()\n",
    "        self.start_probs = dict()\n",
    "\n",
    "@nu.timer\n",
    "def train_hmm(sentences: List[pd.DataFrame], smooth_value: float = 1.0) -> HMM:\n",
    "    \"\"\"\n",
    "    Trains a Hidden Markov Model (HMM) given a list of sentences. \n",
    "    Applies Laplace smoothing when calculating probabilities.\n",
    "\n",
    "    Args:\n",
    "    sentences (List[pd.DataFrame]): List of DataFrames, each representing a sentence.\n",
    "\n",
    "    Returns:\n",
    "    HMM: Trained HMM model.\n",
    "    \"\"\"\n",
    "    model = HMM()\n",
    "\n",
    "    transition_counts = defaultdict(int)\n",
    "    emission_counts = defaultdict(int)\n",
    "    start_counts = defaultdict(int)\n",
    "\n",
    "    for sentence in sentences:\n",
    "        prev_tag = None\n",
    "        for _, row in sentence.iterrows():\n",
    "            token, tag = row['Token'], row['POS']\n",
    "            if prev_tag is None:\n",
    "                start_counts[tag] += 1\n",
    "            else:\n",
    "                transition_counts[(prev_tag, tag)] += 1\n",
    "            emission_counts[(tag, token)] += 1\n",
    "            prev_tag = tag\n",
    "\n",
    "    unique_transitions = len(transition_counts)\n",
    "    unique_emissions = len(emission_counts)\n",
    "\n",
    "    total_transitions = sum(transition_counts.values())\n",
    "    total_emissions = sum(emission_counts.values())\n",
    "    total_starts = sum(start_counts.values())\n",
    "\n",
    "    model.transition_probs = {k: (v + smooth_value) / (total_transitions + smooth_value*unique_transitions) for k, v in transition_counts.items()}\n",
    "    model.emission_probs = {k: (v + smooth_value) / (total_emissions + smooth_value*unique_emissions) for k, v in emission_counts.items()}\n",
    "    model.start_probs = {k: v / total_starts for k, v in start_counts.items()}\n",
    "    return model\n",
    "\n",
    "\n",
    "def viterbi_algorithm(model: HMM, sentence: pd.DataFrame) -> pd.DataFrame:\n",
    "    \"\"\"\n",
    "    Uses the Viterbi algorithm to find the most probable sequence of hidden states (POS tags).\n",
    "    Handles unknown words by assigning a small constant probability for every state.\n",
    "\n",
    "    Args:\n",
    "    model (HMM): Trained HMM model.\n",
    "    sentence (pd.DataFrame): DataFrame representing a sentence.\n",
    "\n",
    "    Returns:\n",
    "    pd.DataFrame: DataFrame containing the tokens, actual tags, and predicted tags for each sentence.\n",
    "    \"\"\"\n",
    "    tokens = sentence['Token'].tolist()\n",
    "    actual_tags = sentence['POS'].tolist()\n",
    "    states = list(set([state for state, _ in model.emission_probs.keys()]))\n",
    "    n_states = len(states)\n",
    "    n_tokens = len(tokens)\n",
    "\n",
    "    dp = np.zeros((n_states, n_tokens))\n",
    "    ptr = np.zeros((n_states, n_tokens), dtype=int)\n",
    "    unknown_word_prob = 1e-6  # Small constant probability for unknown words\n",
    "\n",
    "    # Initialization\n",
    "    for i, state in enumerate(states):\n",
    "        dp[i, 0] = model.start_probs.get(state, 0) * model.emission_probs.get((state, tokens[0]), unknown_word_prob)\n",
    "\n",
    "    # Recursion\n",
    "    for t in range(1, n_tokens):\n",
    "        for j, state in enumerate(states):\n",
    "            max_prob = 0\n",
    "            max_state = 0\n",
    "            for i, prev_state in enumerate(states):\n",
    "                prob = dp[i, t-1] * model.transition_probs.get((prev_state, state), 0) * model.emission_probs.get((state, tokens[t]), unknown_word_prob)\n",
    "                if prob > max_prob:\n",
    "                    max_prob = prob\n",
    "                    max_state = i\n",
    "            dp[j, t] = max_prob\n",
    "            ptr[j, t] = max_state\n",
    "\n",
    "    # Traceback\n",
    "    best_path = [np.argmax(dp[:, -1])]\n",
    "    for t in range(n_tokens-1, 0, -1):\n",
    "        best_path.append(ptr[best_path[-1], t])\n",
    "    best_path = [states[i] for i in reversed(best_path)]\n",
    "\n",
    "    result = pd.DataFrame({\n",
    "        'Token': tokens,\n",
    "        'Actual_POS': actual_tags,\n",
    "        'Predicted_POS': best_path\n",
    "    })\n",
    "    return result\n",
    "\n",
    "@nu.timer\n",
    "def evaluate_hmm(model: HMM, sentences: List[pd.DataFrame]) -> float:\n",
    "    \"\"\"\n",
    "    Evaluates the performance of the HMM model by calculating the accuracy of POS tagging.\n",
    "\n",
    "    Args:\n",
    "    model (HMM): Trained HMM model.\n",
    "    sentences (List[pd.DataFrame]): List of DataFrames, each representing a sentence.\n",
    "\n",
    "    Returns:\n",
    "    float: Accuracy of POS tagging.\n",
    "    df_results (pd.DataFrame): DataFrame containing the 'Token', 'Actual_POS', and 'Predicted_POS' for each sentence.\n",
    "\n",
    "    \"\"\"\n",
    "    results = []\n",
    "    for sentence in sentences:\n",
    "        result = viterbi_algorithm(model, sentence)\n",
    "        results.append(result)\n",
    "    df_results = pd.concat(results, ignore_index=True)\n",
    "    correct_tags = np.sum(df_results['Actual_POS'] == df_results['Predicted_POS'])\n",
    "    total_tags = len(df_results)\n",
    "    accuracy = correct_tags / total_tags\n",
    "    print(f'Accuracy: {accuracy:.4f}')\n",
    "    return accuracy, df_results\n",
    "\n",
    "@nu.timer\n",
    "def cross_validation(sentences: List[pd.DataFrame], smooth_values: List[float], k: int) -> float:\n",
    "    \"\"\"\n",
    "    Performs k-fold cross-validation to choose the best smoothing value.\n",
    "\n",
    "    Args:\n",
    "    sentences (List[pd.DataFrame]): List of DataFrames, each representing a sentence.\n",
    "    smooth_values (List[float]): The values to try for Laplace smoothing.\n",
    "    k (int): The number of folds for cross-validation.\n",
    "\n",
    "    Returns:\n",
    "    float: The smoothing value that resulted in the highest average accuracy.\n",
    "    \"\"\"\n",
    "    n = len(sentences)\n",
    "    fold_size = n // k\n",
    "\n",
    "    best_smooth_value = None\n",
    "    best_accuracy = 0\n",
    "\n",
    "    for smooth_value in smooth_values:\n",
    "        accuracies = []\n",
    "        for i in range(k):\n",
    "            validation_sentences = sentences[i*fold_size:(i+1)*fold_size]\n",
    "            training_sentences = sentences[:i*fold_size] + sentences[(i+1)*fold_size:]\n",
    "            model = train_hmm(training_sentences, smooth_value)\n",
    "            accuracy, _ = evaluate_hmm(model, validation_sentences)\n",
    "            accuracies.append(accuracy)\n",
    "        average_accuracy = sum(accuracies) / len(accuracies)\n",
    "        if average_accuracy > best_accuracy:\n",
    "            best_accuracy = average_accuracy\n",
    "            best_smooth_value = smooth_value\n",
    "\n",
    "    return best_smooth_value"
   ]
  },
  {
   "cell_type": "code",
   "execution_count": 4,
   "metadata": {},
   "outputs": [
    {
     "name": "stderr",
     "output_type": "stream",
     "text": [
      "16-Jul-23 14:08:14 - INFO - Starting 'load_config'.\n",
      "16-Jul-23 14:08:14 - INFO - Finished 'load_config' in 0.0080 secs.\n",
      "16-Jul-23 14:08:15 - INFO - df_train.shape: (44324, 2)\n",
      "16-Jul-23 14:08:15 - INFO - df_train unique tokens: 14125\n",
      "16-Jul-23 14:08:15 - INFO - df_train unique POS: 99\n",
      "16-Jul-23 14:08:15 - INFO - df_test.shape: (4676, 2)\n",
      "16-Jul-23 14:08:15 - INFO - df_test unique tokens: 2415\n",
      "16-Jul-23 14:08:15 - INFO - df_test unique POS: 77\n",
      "16-Jul-23 14:08:16 - INFO - Starting 'train_hmm'.\n",
      "16-Jul-23 14:08:16 - INFO - Finished 'train_hmm' in 0.5132 secs.\n",
      "16-Jul-23 14:08:16 - INFO - Starting 'evaluate_hmm'.\n",
      "16-Jul-23 14:08:48 - INFO - Finished 'evaluate_hmm' in 31.2593 secs.\n",
      "16-Jul-23 14:08:48 - INFO - Starting 'evaluate_hmm'.\n"
     ]
    },
    {
     "name": "stdout",
     "output_type": "stream",
     "text": [
      "Accuracy: 0.7066\n"
     ]
    },
    {
     "name": "stderr",
     "output_type": "stream",
     "text": [
      "16-Jul-23 14:09:04 - INFO - Finished 'evaluate_hmm' in 16.3073 secs.\n"
     ]
    },
    {
     "name": "stdout",
     "output_type": "stream",
     "text": [
      "Accuracy: 0.6969\n",
      "Validation Set Accuracy: 70.66%\n",
      "Test Set Accuracy: 69.69%\n"
     ]
    }
   ],
   "source": [
    "conf = nu.load_config(\"a2\")\n",
    "df_train, df_test = load_data(conf.paths.raw_txt_train, conf.paths.raw_txt_test)\n",
    "df_train = remove_punctuation(df_train)\n",
    "df_test = remove_punctuation(df_test)\n",
    "sentences_train = split_into_sentences(df_train)\n",
    "sentences_test = split_into_sentences(df_test)\n",
    "sentences_train, sentences_valid = create_validation_set(sentences_train)\n",
    "hmm_model = train_hmm(sentences_train)\n",
    "# Evaluate model on the validation set\n",
    "valid_accuracy, valid_results = evaluate_hmm(hmm_model, sentences_valid)\n",
    "test_accuracy, test_results = evaluate_hmm(hmm_model, sentences_test)\n",
    "print(f'Validation Set Accuracy: {valid_accuracy * 100:.2f}%')\n",
    "print(f'Test Set Accuracy: {test_accuracy * 100:.2f}%')"
   ]
  },
  {
   "cell_type": "markdown",
   "metadata": {},
   "source": [
    "## Let's try and understand some more insights:"
   ]
  },
  {
   "cell_type": "markdown",
   "metadata": {},
   "source": [
    "### How many new words are there in the validation set and test set that were not there in the train set?"
   ]
  },
  {
   "cell_type": "code",
   "execution_count": 7,
   "metadata": {},
   "outputs": [],
   "source": [
    "def new_words(train_set: pd.DataFrame, test_set: pd.DataFrame):\n",
    "    train_words = set(train_set['Token'].unique())\n",
    "    test_words = set(test_set['Token'].unique())\n",
    "    new_words = test_words - train_words\n",
    "    return new_words"
   ]
  },
  {
   "cell_type": "code",
   "execution_count": null,
   "metadata": {},
   "outputs": [],
   "source": []
  },
  {
   "cell_type": "code",
   "execution_count": 8,
   "metadata": {},
   "outputs": [
    {
     "data": {
      "text/plain": [
       "1248"
      ]
     },
     "execution_count": 8,
     "metadata": {},
     "output_type": "execute_result"
    }
   ],
   "source": [
    "new_words = new_words(df_train, df_test)\n",
    "len(new_words)"
   ]
  },
  {
   "cell_type": "markdown",
   "metadata": {},
   "source": [
    "### What were the most common correct POS for those unknown words?"
   ]
  },
  {
   "cell_type": "code",
   "execution_count": 9,
   "metadata": {},
   "outputs": [],
   "source": [
    "def common_pos_for_new_words(new_words: set, test_set: pd.DataFrame):\n",
    "    new_word_rows = test_set[test_set['Token'].isin(new_words)]\n",
    "    return new_word_rows['POS'].value_counts()"
   ]
  },
  {
   "cell_type": "code",
   "execution_count": 10,
   "metadata": {},
   "outputs": [
    {
     "data": {
      "text/plain": [
       "V          804\n",
       "N           93\n",
       "P           92\n",
       "POS         47\n",
       "N09         45\n",
       "N07         40\n",
       "N05         34\n",
       "N06         32\n",
       "REL         29\n",
       "N03         28\n",
       "N10         24\n",
       "N01         23\n",
       "LOC         20\n",
       "N02         17\n",
       "ADV         17\n",
       "N11         16\n",
       "N08         14\n",
       "COP         13\n",
       "N04         10\n",
       "DEM01        5\n",
       "N14          3\n",
       "ADJ04        2\n",
       "ADJ02        2\n",
       "PRON01       2\n",
       "ADJ05        1\n",
       "ADJ00        1\n",
       "M            1\n",
       "ADJ07        1\n",
       "QUANT01      1\n",
       "POS09        1\n",
       "REL02        1\n",
       "DEM          1\n",
       "ADJ08        1\n",
       "N00          1\n",
       "DEM02        1\n",
       "ADJ01        1\n",
       "Name: POS, dtype: int64"
      ]
     },
     "execution_count": 10,
     "metadata": {},
     "output_type": "execute_result"
    }
   ],
   "source": [
    "common_pos = common_pos_for_new_words(new_words, df_test)\n",
    "common_pos"
   ]
  },
  {
   "cell_type": "markdown",
   "metadata": {},
   "source": [
    "### How many of these did the model misclassify?"
   ]
  },
  {
   "cell_type": "code",
   "execution_count": 11,
   "metadata": {},
   "outputs": [],
   "source": [
    "def misclassified_new_words(new_words: set, results: pd.DataFrame):\n",
    "    new_word_rows = results[results['Token'].isin(new_words)]\n",
    "    return sum(new_word_rows['Actual_POS'] != new_word_rows['Predicted_POS'])"
   ]
  },
  {
   "cell_type": "code",
   "execution_count": 12,
   "metadata": {},
   "outputs": [
    {
     "data": {
      "text/plain": [
       "620"
      ]
     },
     "execution_count": 12,
     "metadata": {},
     "output_type": "execute_result"
    }
   ],
   "source": [
    "misclassified_new_words(new_words, test_results)"
   ]
  },
  {
   "cell_type": "markdown",
   "metadata": {},
   "source": [
    "### What are some of the other traits of the words that the model is misclassifying?"
   ]
  },
  {
   "cell_type": "code",
   "execution_count": 20,
   "metadata": {},
   "outputs": [
    {
     "name": "stdout",
     "output_type": "stream",
     "text": [
      "Average word length: 8.331574981160513\n",
      "Median word length: 8.0\n",
      "Number of words with digits: 54\n",
      "Number of words with special characters: 77\n",
      "Word frequency: ngcono            15\n",
      "khona              9\n",
      "kwethu             8\n",
      "lwethu             7\n",
      "yethu              7\n",
      "                  ..\n",
      "yingxenye          1\n",
      "yalo               1\n",
      "ngogqozi           1\n",
      "Zingamakhulu       1\n",
      "ngoyimpumelelo     1\n",
      "Name: Token, Length: 986, dtype: int64\n"
     ]
    }
   ],
   "source": [
    "# def misclassified_traits(results: pd.DataFrame):\n",
    "misclassified_rows = test_results[test_results['Actual_POS'] != test_results['Predicted_POS']]\n",
    "word_lengths = misclassified_rows['Token'].str.len()\n",
    "print(\"Average word length:\", word_lengths.mean())\n",
    "print(\"Median word length:\", word_lengths.median())\n",
    "print(\"Number of words with digits:\", misclassified_rows['Token'].str.contains('\\d').sum())\n",
    "print(\"Number of words with special characters:\", misclassified_rows['Token'].str.contains('\\W').sum())\n",
    "print(\"Word frequency:\", misclassified_rows['Token'].value_counts())\n"
   ]
  },
  {
   "cell_type": "code",
   "execution_count": 26,
   "metadata": {},
   "outputs": [
    {
     "data": {
      "text/html": [
       "<div>\n",
       "<style scoped>\n",
       "    .dataframe tbody tr th:only-of-type {\n",
       "        vertical-align: middle;\n",
       "    }\n",
       "\n",
       "    .dataframe tbody tr th {\n",
       "        vertical-align: top;\n",
       "    }\n",
       "\n",
       "    .dataframe thead th {\n",
       "        text-align: right;\n",
       "    }\n",
       "</style>\n",
       "<table border=\"1\" class=\"dataframe\">\n",
       "  <thead>\n",
       "    <tr style=\"text-align: right;\">\n",
       "      <th></th>\n",
       "      <th>Token</th>\n",
       "      <th>Actual_POS</th>\n",
       "      <th>Predicted_POS</th>\n",
       "    </tr>\n",
       "  </thead>\n",
       "  <tbody>\n",
       "    <tr>\n",
       "      <th>1989</th>\n",
       "      <td>yethu</td>\n",
       "      <td>POS09</td>\n",
       "      <td>V</td>\n",
       "    </tr>\n",
       "    <tr>\n",
       "      <th>1997</th>\n",
       "      <td>yethu</td>\n",
       "      <td>POS09</td>\n",
       "      <td>V</td>\n",
       "    </tr>\n",
       "    <tr>\n",
       "      <th>2612</th>\n",
       "      <td>yethu</td>\n",
       "      <td>POS09</td>\n",
       "      <td>V</td>\n",
       "    </tr>\n",
       "    <tr>\n",
       "      <th>3374</th>\n",
       "      <td>yethu</td>\n",
       "      <td>POS09</td>\n",
       "      <td>V</td>\n",
       "    </tr>\n",
       "    <tr>\n",
       "      <th>3433</th>\n",
       "      <td>yethu</td>\n",
       "      <td>POS09</td>\n",
       "      <td>V</td>\n",
       "    </tr>\n",
       "    <tr>\n",
       "      <th>3591</th>\n",
       "      <td>yethu</td>\n",
       "      <td>POS09</td>\n",
       "      <td>V</td>\n",
       "    </tr>\n",
       "    <tr>\n",
       "      <th>3731</th>\n",
       "      <td>yethu</td>\n",
       "      <td>POS09</td>\n",
       "      <td>V</td>\n",
       "    </tr>\n",
       "  </tbody>\n",
       "</table>\n",
       "</div>"
      ],
      "text/plain": [
       "      Token Actual_POS Predicted_POS\n",
       "1989  yethu      POS09             V\n",
       "1997  yethu      POS09             V\n",
       "2612  yethu      POS09             V\n",
       "3374  yethu      POS09             V\n",
       "3433  yethu      POS09             V\n",
       "3591  yethu      POS09             V\n",
       "3731  yethu      POS09             V"
      ]
     },
     "execution_count": 26,
     "metadata": {},
     "output_type": "execute_result"
    }
   ],
   "source": [
    "misclassified_rows[misclassified_rows['Token'] == 'yethu']"
   ]
  },
  {
   "cell_type": "code",
   "execution_count": 27,
   "metadata": {},
   "outputs": [
    {
     "data": {
      "text/html": [
       "<div>\n",
       "<style scoped>\n",
       "    .dataframe tbody tr th:only-of-type {\n",
       "        vertical-align: middle;\n",
       "    }\n",
       "\n",
       "    .dataframe tbody tr th {\n",
       "        vertical-align: top;\n",
       "    }\n",
       "\n",
       "    .dataframe thead th {\n",
       "        text-align: right;\n",
       "    }\n",
       "</style>\n",
       "<table border=\"1\" class=\"dataframe\">\n",
       "  <thead>\n",
       "    <tr style=\"text-align: right;\">\n",
       "      <th></th>\n",
       "      <th>Token</th>\n",
       "      <th>Actual_POS</th>\n",
       "      <th>Predicted_POS</th>\n",
       "    </tr>\n",
       "  </thead>\n",
       "  <tbody>\n",
       "    <tr>\n",
       "      <th>0</th>\n",
       "      <td>&lt;s&gt;</td>\n",
       "      <td>START</td>\n",
       "      <td>START</td>\n",
       "    </tr>\n",
       "    <tr>\n",
       "      <th>1</th>\n",
       "      <td>Thola</td>\n",
       "      <td>V</td>\n",
       "      <td>V</td>\n",
       "    </tr>\n",
       "    <tr>\n",
       "      <th>2</th>\n",
       "      <td>ifomu</td>\n",
       "      <td>N05</td>\n",
       "      <td>N05</td>\n",
       "    </tr>\n",
       "    <tr>\n",
       "      <th>3</th>\n",
       "      <td>lesicelo</td>\n",
       "      <td>N07</td>\n",
       "      <td>N07</td>\n",
       "    </tr>\n",
       "    <tr>\n",
       "      <th>4</th>\n",
       "      <td>kwi-inthanethi</td>\n",
       "      <td>COP</td>\n",
       "      <td>V</td>\n",
       "    </tr>\n",
       "    <tr>\n",
       "      <th>...</th>\n",
       "      <td>...</td>\n",
       "      <td>...</td>\n",
       "      <td>...</td>\n",
       "    </tr>\n",
       "    <tr>\n",
       "      <th>4373</th>\n",
       "      <td>kube</td>\n",
       "      <td>V</td>\n",
       "      <td>V</td>\n",
       "    </tr>\n",
       "    <tr>\n",
       "      <th>4374</th>\n",
       "      <td>ngoyimpumelelo</td>\n",
       "      <td>N09</td>\n",
       "      <td>V</td>\n",
       "    </tr>\n",
       "    <tr>\n",
       "      <th>4375</th>\n",
       "      <td>ezweni</td>\n",
       "      <td>N05</td>\n",
       "      <td>N05</td>\n",
       "    </tr>\n",
       "    <tr>\n",
       "      <th>4376</th>\n",
       "      <td>lethu</td>\n",
       "      <td>POS05</td>\n",
       "      <td>POS05</td>\n",
       "    </tr>\n",
       "    <tr>\n",
       "      <th>4377</th>\n",
       "      <td>&lt;\\s&gt;</td>\n",
       "      <td>STOP</td>\n",
       "      <td>STOP</td>\n",
       "    </tr>\n",
       "  </tbody>\n",
       "</table>\n",
       "<p>4378 rows × 3 columns</p>\n",
       "</div>"
      ],
      "text/plain": [
       "               Token Actual_POS Predicted_POS\n",
       "0                <s>      START         START\n",
       "1              Thola          V             V\n",
       "2              ifomu        N05           N05\n",
       "3           lesicelo        N07           N07\n",
       "4     kwi-inthanethi        COP             V\n",
       "...              ...        ...           ...\n",
       "4373            kube          V             V\n",
       "4374  ngoyimpumelelo        N09             V\n",
       "4375          ezweni        N05           N05\n",
       "4376           lethu      POS05         POS05\n",
       "4377            <\\s>       STOP          STOP\n",
       "\n",
       "[4378 rows x 3 columns]"
      ]
     },
     "execution_count": 27,
     "metadata": {},
     "output_type": "execute_result"
    }
   ],
   "source": [
    "test_results"
   ]
  },
  {
   "cell_type": "code",
   "execution_count": 18,
   "metadata": {},
   "outputs": [
    {
     "name": "stdout",
     "output_type": "stream",
     "text": [
      "Average word length: 8.331574981160513\n",
      "Median word length: 8.0\n",
      "Number of words with digits: 54\n",
      "Number of words with special characters: 77\n",
      "Word frequency: ngcono            15\n",
      "khona              9\n",
      "kwethu             8\n",
      "lwethu             7\n",
      "yethu              7\n",
      "                  ..\n",
      "yingxenye          1\n",
      "yalo               1\n",
      "ngogqozi           1\n",
      "Zingamakhulu       1\n",
      "ngoyimpumelelo     1\n",
      "Name: Token, Length: 986, dtype: int64\n"
     ]
    }
   ],
   "source": [
    "misclassified_traits(test_results)"
   ]
  },
  {
   "cell_type": "code",
   "execution_count": 29,
   "metadata": {},
   "outputs": [
    {
     "data": {
      "text/html": [
       "<div>\n",
       "<style scoped>\n",
       "    .dataframe tbody tr th:only-of-type {\n",
       "        vertical-align: middle;\n",
       "    }\n",
       "\n",
       "    .dataframe tbody tr th {\n",
       "        vertical-align: top;\n",
       "    }\n",
       "\n",
       "    .dataframe thead th {\n",
       "        text-align: right;\n",
       "    }\n",
       "</style>\n",
       "<table border=\"1\" class=\"dataframe\">\n",
       "  <thead>\n",
       "    <tr style=\"text-align: right;\">\n",
       "      <th></th>\n",
       "      <th>Token</th>\n",
       "      <th>Actual_POS</th>\n",
       "      <th>Predicted_POS</th>\n",
       "    </tr>\n",
       "  </thead>\n",
       "  <tbody>\n",
       "    <tr>\n",
       "      <th>88</th>\n",
       "      <td>10</td>\n",
       "      <td>POS</td>\n",
       "      <td>V</td>\n",
       "    </tr>\n",
       "    <tr>\n",
       "      <th>541</th>\n",
       "      <td>08600</td>\n",
       "      <td>REL</td>\n",
       "      <td>V</td>\n",
       "    </tr>\n",
       "    <tr>\n",
       "      <th>542</th>\n",
       "      <td>10</td>\n",
       "      <td>P</td>\n",
       "      <td>V</td>\n",
       "    </tr>\n",
       "    <tr>\n",
       "      <th>604</th>\n",
       "      <td>08600</td>\n",
       "      <td>REL</td>\n",
       "      <td>V</td>\n",
       "    </tr>\n",
       "    <tr>\n",
       "      <th>605</th>\n",
       "      <td>10</td>\n",
       "      <td>P</td>\n",
       "      <td>V</td>\n",
       "    </tr>\n",
       "    <tr>\n",
       "      <th>720</th>\n",
       "      <td>angu-24</td>\n",
       "      <td>REL</td>\n",
       "      <td>V</td>\n",
       "    </tr>\n",
       "    <tr>\n",
       "      <th>751</th>\n",
       "      <td>ye-NI2</td>\n",
       "      <td>ADV</td>\n",
       "      <td>V</td>\n",
       "    </tr>\n",
       "    <tr>\n",
       "      <th>773</th>\n",
       "      <td>enga-20</td>\n",
       "      <td>REL</td>\n",
       "      <td>V</td>\n",
       "    </tr>\n",
       "    <tr>\n",
       "      <th>1134</th>\n",
       "      <td>engama-20</td>\n",
       "      <td>REL</td>\n",
       "      <td>V</td>\n",
       "    </tr>\n",
       "    <tr>\n",
       "      <th>1264</th>\n",
       "      <td>we-1910</td>\n",
       "      <td>P</td>\n",
       "      <td>V</td>\n",
       "    </tr>\n",
       "    <tr>\n",
       "      <th>1546</th>\n",
       "      <td>eyi-17</td>\n",
       "      <td>REL</td>\n",
       "      <td>V</td>\n",
       "    </tr>\n",
       "    <tr>\n",
       "      <th>1554</th>\n",
       "      <td>eyi-900</td>\n",
       "      <td>REL</td>\n",
       "      <td>V</td>\n",
       "    </tr>\n",
       "    <tr>\n",
       "      <th>1555</th>\n",
       "      <td>000</td>\n",
       "      <td>P</td>\n",
       "      <td>V</td>\n",
       "    </tr>\n",
       "    <tr>\n",
       "      <th>1630</th>\n",
       "      <td>eyi-14</td>\n",
       "      <td>REL</td>\n",
       "      <td>V</td>\n",
       "    </tr>\n",
       "    <tr>\n",
       "      <th>1650</th>\n",
       "      <td>eyi-15</td>\n",
       "      <td>REL</td>\n",
       "      <td>V</td>\n",
       "    </tr>\n",
       "    <tr>\n",
       "      <th>1652</th>\n",
       "      <td>kweyi-18</td>\n",
       "      <td>REL</td>\n",
       "      <td>V</td>\n",
       "    </tr>\n",
       "    <tr>\n",
       "      <th>1702</th>\n",
       "      <td>we-2009</td>\n",
       "      <td>P</td>\n",
       "      <td>V</td>\n",
       "    </tr>\n",
       "    <tr>\n",
       "      <th>1712</th>\n",
       "      <td>ayi-500</td>\n",
       "      <td>REL</td>\n",
       "      <td>V</td>\n",
       "    </tr>\n",
       "    <tr>\n",
       "      <th>1715</th>\n",
       "      <td>ka-2009</td>\n",
       "      <td>POS</td>\n",
       "      <td>V</td>\n",
       "    </tr>\n",
       "    <tr>\n",
       "      <th>1751</th>\n",
       "      <td>kwe-480</td>\n",
       "      <td>POS</td>\n",
       "      <td>V</td>\n",
       "    </tr>\n",
       "    <tr>\n",
       "      <th>1752</th>\n",
       "      <td>000</td>\n",
       "      <td>REL</td>\n",
       "      <td>V</td>\n",
       "    </tr>\n",
       "    <tr>\n",
       "      <th>2024</th>\n",
       "      <td>engama-20</td>\n",
       "      <td>P</td>\n",
       "      <td>V</td>\n",
       "    </tr>\n",
       "    <tr>\n",
       "      <th>2228</th>\n",
       "      <td>we-2010</td>\n",
       "      <td>P</td>\n",
       "      <td>V</td>\n",
       "    </tr>\n",
       "    <tr>\n",
       "      <th>2419</th>\n",
       "      <td>we-2010</td>\n",
       "      <td>POS</td>\n",
       "      <td>V</td>\n",
       "    </tr>\n",
       "    <tr>\n",
       "      <th>2519</th>\n",
       "      <td>angama-35</td>\n",
       "      <td>COP</td>\n",
       "      <td>V</td>\n",
       "    </tr>\n",
       "    <tr>\n",
       "      <th>2521</th>\n",
       "      <td>kwangama-40</td>\n",
       "      <td>REL</td>\n",
       "      <td>V</td>\n",
       "    </tr>\n",
       "    <tr>\n",
       "      <th>2525</th>\n",
       "      <td>angama-60</td>\n",
       "      <td>P</td>\n",
       "      <td>V</td>\n",
       "    </tr>\n",
       "    <tr>\n",
       "      <th>2527</th>\n",
       "      <td>we-2014</td>\n",
       "      <td>P</td>\n",
       "      <td>V</td>\n",
       "    </tr>\n",
       "    <tr>\n",
       "      <th>2543</th>\n",
       "      <td>eziyi-2700</td>\n",
       "      <td>REL</td>\n",
       "      <td>V</td>\n",
       "    </tr>\n",
       "    <tr>\n",
       "      <th>2567</th>\n",
       "      <td>nge-175</td>\n",
       "      <td>POS</td>\n",
       "      <td>V</td>\n",
       "    </tr>\n",
       "    <tr>\n",
       "      <th>2568</th>\n",
       "      <td>000</td>\n",
       "      <td>REL</td>\n",
       "      <td>V</td>\n",
       "    </tr>\n",
       "    <tr>\n",
       "      <th>2570</th>\n",
       "      <td>we-2014</td>\n",
       "      <td>POS</td>\n",
       "      <td>V</td>\n",
       "    </tr>\n",
       "    <tr>\n",
       "      <th>2602</th>\n",
       "      <td>we-2010</td>\n",
       "      <td>P</td>\n",
       "      <td>V</td>\n",
       "    </tr>\n",
       "    <tr>\n",
       "      <th>2632</th>\n",
       "      <td>eyi-16</td>\n",
       "      <td>POS</td>\n",
       "      <td>V</td>\n",
       "    </tr>\n",
       "    <tr>\n",
       "      <th>2804</th>\n",
       "      <td>kwengama-60</td>\n",
       "      <td>P</td>\n",
       "      <td>V</td>\n",
       "    </tr>\n",
       "    <tr>\n",
       "      <th>2807</th>\n",
       "      <td>kwengama-50</td>\n",
       "      <td>P</td>\n",
       "      <td>V</td>\n",
       "    </tr>\n",
       "    <tr>\n",
       "      <th>2929</th>\n",
       "      <td>ayi-10</td>\n",
       "      <td>REL</td>\n",
       "      <td>V</td>\n",
       "    </tr>\n",
       "    <tr>\n",
       "      <th>3115</th>\n",
       "      <td>we-2009</td>\n",
       "      <td>P</td>\n",
       "      <td>V</td>\n",
       "    </tr>\n",
       "    <tr>\n",
       "      <th>3167</th>\n",
       "      <td>abayi-500</td>\n",
       "      <td>P</td>\n",
       "      <td>V</td>\n",
       "    </tr>\n",
       "    <tr>\n",
       "      <th>3168</th>\n",
       "      <td>000</td>\n",
       "      <td>REL</td>\n",
       "      <td>V</td>\n",
       "    </tr>\n",
       "    <tr>\n",
       "      <th>3170</th>\n",
       "      <td>we-2014</td>\n",
       "      <td>POS</td>\n",
       "      <td>V</td>\n",
       "    </tr>\n",
       "    <tr>\n",
       "      <th>3177</th>\n",
       "      <td>ayi-6</td>\n",
       "      <td>P</td>\n",
       "      <td>V</td>\n",
       "    </tr>\n",
       "    <tr>\n",
       "      <th>3178</th>\n",
       "      <td>000</td>\n",
       "      <td>REL</td>\n",
       "      <td>V</td>\n",
       "    </tr>\n",
       "    <tr>\n",
       "      <th>3325</th>\n",
       "      <td>we-2014</td>\n",
       "      <td>POS</td>\n",
       "      <td>V</td>\n",
       "    </tr>\n",
       "    <tr>\n",
       "      <th>3330</th>\n",
       "      <td>eziyi-160</td>\n",
       "      <td>P</td>\n",
       "      <td>V</td>\n",
       "    </tr>\n",
       "    <tr>\n",
       "      <th>3335</th>\n",
       "      <td>angama-60</td>\n",
       "      <td>P</td>\n",
       "      <td>V</td>\n",
       "    </tr>\n",
       "    <tr>\n",
       "      <th>3346</th>\n",
       "      <td>we-2014</td>\n",
       "      <td>POS</td>\n",
       "      <td>V</td>\n",
       "    </tr>\n",
       "    <tr>\n",
       "      <th>3424</th>\n",
       "      <td>we-2014</td>\n",
       "      <td>POS</td>\n",
       "      <td>V</td>\n",
       "    </tr>\n",
       "    <tr>\n",
       "      <th>3767</th>\n",
       "      <td>689</td>\n",
       "      <td>POS</td>\n",
       "      <td>V</td>\n",
       "    </tr>\n",
       "    <tr>\n",
       "      <th>3772</th>\n",
       "      <td>eziyi-180</td>\n",
       "      <td>POS</td>\n",
       "      <td>V</td>\n",
       "    </tr>\n",
       "    <tr>\n",
       "      <th>3940</th>\n",
       "      <td>we-2010</td>\n",
       "      <td>P</td>\n",
       "      <td>V</td>\n",
       "    </tr>\n",
       "    <tr>\n",
       "      <th>3989</th>\n",
       "      <td>eyi-150</td>\n",
       "      <td>REL</td>\n",
       "      <td>V</td>\n",
       "    </tr>\n",
       "    <tr>\n",
       "      <th>4102</th>\n",
       "      <td>we-2010</td>\n",
       "      <td>P</td>\n",
       "      <td>V</td>\n",
       "    </tr>\n",
       "    <tr>\n",
       "      <th>4356</th>\n",
       "      <td>we-2010</td>\n",
       "      <td>REL</td>\n",
       "      <td>V</td>\n",
       "    </tr>\n",
       "  </tbody>\n",
       "</table>\n",
       "</div>"
      ],
      "text/plain": [
       "            Token Actual_POS Predicted_POS\n",
       "88             10        POS             V\n",
       "541         08600        REL             V\n",
       "542            10          P             V\n",
       "604         08600        REL             V\n",
       "605            10          P             V\n",
       "720       angu-24        REL             V\n",
       "751        ye-NI2        ADV             V\n",
       "773       enga-20        REL             V\n",
       "1134    engama-20        REL             V\n",
       "1264      we-1910          P             V\n",
       "1546       eyi-17        REL             V\n",
       "1554      eyi-900        REL             V\n",
       "1555          000          P             V\n",
       "1630       eyi-14        REL             V\n",
       "1650       eyi-15        REL             V\n",
       "1652     kweyi-18        REL             V\n",
       "1702      we-2009          P             V\n",
       "1712      ayi-500        REL             V\n",
       "1715      ka-2009        POS             V\n",
       "1751      kwe-480        POS             V\n",
       "1752          000        REL             V\n",
       "2024    engama-20          P             V\n",
       "2228      we-2010          P             V\n",
       "2419      we-2010        POS             V\n",
       "2519    angama-35        COP             V\n",
       "2521  kwangama-40        REL             V\n",
       "2525    angama-60          P             V\n",
       "2527      we-2014          P             V\n",
       "2543   eziyi-2700        REL             V\n",
       "2567      nge-175        POS             V\n",
       "2568          000        REL             V\n",
       "2570      we-2014        POS             V\n",
       "2602      we-2010          P             V\n",
       "2632       eyi-16        POS             V\n",
       "2804  kwengama-60          P             V\n",
       "2807  kwengama-50          P             V\n",
       "2929       ayi-10        REL             V\n",
       "3115      we-2009          P             V\n",
       "3167    abayi-500          P             V\n",
       "3168          000        REL             V\n",
       "3170      we-2014        POS             V\n",
       "3177        ayi-6          P             V\n",
       "3178          000        REL             V\n",
       "3325      we-2014        POS             V\n",
       "3330    eziyi-160          P             V\n",
       "3335    angama-60          P             V\n",
       "3346      we-2014        POS             V\n",
       "3424      we-2014        POS             V\n",
       "3767          689        POS             V\n",
       "3772    eziyi-180        POS             V\n",
       "3940      we-2010          P             V\n",
       "3989      eyi-150        REL             V\n",
       "4102      we-2010          P             V\n",
       "4356      we-2010        REL             V"
      ]
     },
     "execution_count": 29,
     "metadata": {},
     "output_type": "execute_result"
    }
   ],
   "source": [
    "misclassified_rows[misclassified_rows['Token'].str.contains('\\d')]"
   ]
  },
  {
   "cell_type": "code",
   "execution_count": 42,
   "metadata": {},
   "outputs": [],
   "source": [
    "# df_train[df_train['Token'] == 'ngcono']"
   ]
  },
  {
   "cell_type": "code",
   "execution_count": 43,
   "metadata": {},
   "outputs": [],
   "source": [
    "# test_results[test_results['Actual_POS'] == 'STOP']"
   ]
  },
  {
   "cell_type": "code",
   "execution_count": 50,
   "metadata": {},
   "outputs": [],
   "source": [
    "def plot_comparison(df_results: pd.DataFrame):\n",
    "    df_melted = df_results.melt(id_vars=\"Token\", value_vars=[\"Actual_POS\", \"Predicted_POS\"], var_name=\"Tag Type\", value_name=\"POS\")\n",
    "\n",
    "    # create a DataFrame with the count for each POS for each Tag Type\n",
    "    df_count = df_melted.groupby([\"Tag Type\", \"POS\"]).size().reset_index(name='Count')\n",
    "\n",
    "    # sort values by Count in descending order\n",
    "    df_count = df_count.sort_values(by=\"Count\", ascending=True)\n",
    "\n",
    "    fig = px.bar(df_count, y=\"POS\", x=\"Count\", color=\"Tag Type\", barmode='group', log_x=True, orientation='h',\n",
    "                 title='Comparison of Actual and Predicted POS tags', labels={'Count': 'Log(Count)'})\n",
    "    fig.update_layout(height=600, width=600)  # Adjusting the dimensions of the plot\n",
    "    fig.show()"
   ]
  },
  {
   "cell_type": "code",
   "execution_count": 51,
   "metadata": {},
   "outputs": [
    {
     "data": {
      "application/vnd.plotly.v1+json": {
       "config": {
        "plotlyServerURL": "https://plot.ly"
       },
       "data": [
        {
         "alignmentgroup": "True",
         "hovertemplate": "Tag Type=Actual_POS<br>Log(Count)=%{x}<br>POS=%{y}<extra></extra>",
         "legendgroup": "Actual_POS",
         "marker": {
          "color": "#636efa",
          "pattern": {
           "shape": ""
          }
         },
         "name": "Actual_POS",
         "offsetgroup": "Actual_POS",
         "orientation": "h",
         "showlegend": true,
         "textposition": "auto",
         "type": "bar",
         "x": [
          1,
          1,
          1,
          1,
          1,
          1,
          1,
          1,
          1,
          1,
          2,
          2,
          2,
          2,
          2,
          2,
          2,
          2,
          2,
          2,
          2,
          2,
          3,
          3,
          3,
          3,
          3,
          3,
          3,
          4,
          4,
          4,
          4,
          4,
          4,
          4,
          5,
          5,
          5,
          6,
          7,
          7,
          8,
          8,
          9,
          9,
          9,
          11,
          12,
          13,
          14,
          15,
          16,
          16,
          19,
          21,
          39,
          52,
          54,
          62,
          62,
          67,
          68,
          82,
          83,
          90,
          92,
          121,
          124,
          124,
          130,
          148,
          159,
          216,
          240,
          333,
          333,
          1401
         ],
         "xaxis": "x",
         "y": [
          "PRON06",
          "PRON09",
          "PRON04",
          "REL04",
          "REL07",
          "POS07",
          "REL09",
          "REL11",
          "REL14",
          "POS03",
          "PRON03",
          "QUANT15",
          "QUANT07",
          "IDEOPH",
          "QUANT10",
          "POS02",
          "POS06",
          "ADJ09",
          "ADJ08",
          "PRON02",
          "PRON05",
          "QUANT09",
          "INT",
          "QUANT05",
          "QUANT08",
          "N00",
          "REL08",
          "PRON08",
          "QUANT03",
          "POS01",
          "QUANT02",
          "REL02",
          "M",
          "ADJ06",
          "REL15",
          "PRON15",
          "ADJ07",
          "POS08",
          "PRON01",
          "QUANT01",
          "ADJ01",
          "POS11",
          "POS10",
          "DEM",
          "ADJ05",
          "ADJ04",
          "ADJ02",
          "POS05",
          "PRON",
          "ADJ00",
          "POS09",
          "ADJ",
          "DEM02",
          "N14",
          "POS15",
          "COP",
          "N08",
          "LOC",
          "N11",
          "DEM01",
          "REL",
          "N02",
          "N04",
          "N01",
          "N06",
          "POS",
          "N10",
          "N07",
          "N05",
          "N03",
          "N09",
          "P",
          "CONJ",
          "N",
          "ADV",
          "STOP",
          "START",
          "V"
         ],
         "yaxis": "y"
        },
        {
         "alignmentgroup": "True",
         "hovertemplate": "Tag Type=Predicted_POS<br>Log(Count)=%{x}<br>POS=%{y}<extra></extra>",
         "legendgroup": "Predicted_POS",
         "marker": {
          "color": "#EF553B",
          "pattern": {
           "shape": ""
          }
         },
         "name": "Predicted_POS",
         "offsetgroup": "Predicted_POS",
         "orientation": "h",
         "showlegend": true,
         "textposition": "auto",
         "type": "bar",
         "x": [
          2,
          4,
          5,
          7,
          10,
          11,
          19,
          21,
          22,
          28,
          33,
          45,
          48,
          50,
          66,
          71,
          83,
          126,
          171,
          218,
          333,
          333,
          2672
         ],
         "xaxis": "x",
         "y": [
          "N08",
          "REL",
          "POS05",
          "LOC",
          "POS",
          "N11",
          "N04",
          "N02",
          "N06",
          "DEM01",
          "N01",
          "P",
          "N10",
          "N07",
          "N03",
          "N05",
          "N09",
          "N",
          "CONJ",
          "ADV",
          "START",
          "STOP",
          "V"
         ],
         "yaxis": "y"
        }
       ],
       "layout": {
        "barmode": "group",
        "height": 600,
        "legend": {
         "title": {
          "text": "Tag Type"
         },
         "tracegroupgap": 0
        },
        "template": {
         "data": {
          "bar": [
           {
            "error_x": {
             "color": "#2a3f5f"
            },
            "error_y": {
             "color": "#2a3f5f"
            },
            "marker": {
             "line": {
              "color": "#E5ECF6",
              "width": 0.5
             },
             "pattern": {
              "fillmode": "overlay",
              "size": 10,
              "solidity": 0.2
             }
            },
            "type": "bar"
           }
          ],
          "barpolar": [
           {
            "marker": {
             "line": {
              "color": "#E5ECF6",
              "width": 0.5
             },
             "pattern": {
              "fillmode": "overlay",
              "size": 10,
              "solidity": 0.2
             }
            },
            "type": "barpolar"
           }
          ],
          "carpet": [
           {
            "aaxis": {
             "endlinecolor": "#2a3f5f",
             "gridcolor": "white",
             "linecolor": "white",
             "minorgridcolor": "white",
             "startlinecolor": "#2a3f5f"
            },
            "baxis": {
             "endlinecolor": "#2a3f5f",
             "gridcolor": "white",
             "linecolor": "white",
             "minorgridcolor": "white",
             "startlinecolor": "#2a3f5f"
            },
            "type": "carpet"
           }
          ],
          "choropleth": [
           {
            "colorbar": {
             "outlinewidth": 0,
             "ticks": ""
            },
            "type": "choropleth"
           }
          ],
          "contour": [
           {
            "colorbar": {
             "outlinewidth": 0,
             "ticks": ""
            },
            "colorscale": [
             [
              0,
              "#0d0887"
             ],
             [
              0.1111111111111111,
              "#46039f"
             ],
             [
              0.2222222222222222,
              "#7201a8"
             ],
             [
              0.3333333333333333,
              "#9c179e"
             ],
             [
              0.4444444444444444,
              "#bd3786"
             ],
             [
              0.5555555555555556,
              "#d8576b"
             ],
             [
              0.6666666666666666,
              "#ed7953"
             ],
             [
              0.7777777777777778,
              "#fb9f3a"
             ],
             [
              0.8888888888888888,
              "#fdca26"
             ],
             [
              1,
              "#f0f921"
             ]
            ],
            "type": "contour"
           }
          ],
          "contourcarpet": [
           {
            "colorbar": {
             "outlinewidth": 0,
             "ticks": ""
            },
            "type": "contourcarpet"
           }
          ],
          "heatmap": [
           {
            "colorbar": {
             "outlinewidth": 0,
             "ticks": ""
            },
            "colorscale": [
             [
              0,
              "#0d0887"
             ],
             [
              0.1111111111111111,
              "#46039f"
             ],
             [
              0.2222222222222222,
              "#7201a8"
             ],
             [
              0.3333333333333333,
              "#9c179e"
             ],
             [
              0.4444444444444444,
              "#bd3786"
             ],
             [
              0.5555555555555556,
              "#d8576b"
             ],
             [
              0.6666666666666666,
              "#ed7953"
             ],
             [
              0.7777777777777778,
              "#fb9f3a"
             ],
             [
              0.8888888888888888,
              "#fdca26"
             ],
             [
              1,
              "#f0f921"
             ]
            ],
            "type": "heatmap"
           }
          ],
          "heatmapgl": [
           {
            "colorbar": {
             "outlinewidth": 0,
             "ticks": ""
            },
            "colorscale": [
             [
              0,
              "#0d0887"
             ],
             [
              0.1111111111111111,
              "#46039f"
             ],
             [
              0.2222222222222222,
              "#7201a8"
             ],
             [
              0.3333333333333333,
              "#9c179e"
             ],
             [
              0.4444444444444444,
              "#bd3786"
             ],
             [
              0.5555555555555556,
              "#d8576b"
             ],
             [
              0.6666666666666666,
              "#ed7953"
             ],
             [
              0.7777777777777778,
              "#fb9f3a"
             ],
             [
              0.8888888888888888,
              "#fdca26"
             ],
             [
              1,
              "#f0f921"
             ]
            ],
            "type": "heatmapgl"
           }
          ],
          "histogram": [
           {
            "marker": {
             "pattern": {
              "fillmode": "overlay",
              "size": 10,
              "solidity": 0.2
             }
            },
            "type": "histogram"
           }
          ],
          "histogram2d": [
           {
            "colorbar": {
             "outlinewidth": 0,
             "ticks": ""
            },
            "colorscale": [
             [
              0,
              "#0d0887"
             ],
             [
              0.1111111111111111,
              "#46039f"
             ],
             [
              0.2222222222222222,
              "#7201a8"
             ],
             [
              0.3333333333333333,
              "#9c179e"
             ],
             [
              0.4444444444444444,
              "#bd3786"
             ],
             [
              0.5555555555555556,
              "#d8576b"
             ],
             [
              0.6666666666666666,
              "#ed7953"
             ],
             [
              0.7777777777777778,
              "#fb9f3a"
             ],
             [
              0.8888888888888888,
              "#fdca26"
             ],
             [
              1,
              "#f0f921"
             ]
            ],
            "type": "histogram2d"
           }
          ],
          "histogram2dcontour": [
           {
            "colorbar": {
             "outlinewidth": 0,
             "ticks": ""
            },
            "colorscale": [
             [
              0,
              "#0d0887"
             ],
             [
              0.1111111111111111,
              "#46039f"
             ],
             [
              0.2222222222222222,
              "#7201a8"
             ],
             [
              0.3333333333333333,
              "#9c179e"
             ],
             [
              0.4444444444444444,
              "#bd3786"
             ],
             [
              0.5555555555555556,
              "#d8576b"
             ],
             [
              0.6666666666666666,
              "#ed7953"
             ],
             [
              0.7777777777777778,
              "#fb9f3a"
             ],
             [
              0.8888888888888888,
              "#fdca26"
             ],
             [
              1,
              "#f0f921"
             ]
            ],
            "type": "histogram2dcontour"
           }
          ],
          "mesh3d": [
           {
            "colorbar": {
             "outlinewidth": 0,
             "ticks": ""
            },
            "type": "mesh3d"
           }
          ],
          "parcoords": [
           {
            "line": {
             "colorbar": {
              "outlinewidth": 0,
              "ticks": ""
             }
            },
            "type": "parcoords"
           }
          ],
          "pie": [
           {
            "automargin": true,
            "type": "pie"
           }
          ],
          "scatter": [
           {
            "fillpattern": {
             "fillmode": "overlay",
             "size": 10,
             "solidity": 0.2
            },
            "type": "scatter"
           }
          ],
          "scatter3d": [
           {
            "line": {
             "colorbar": {
              "outlinewidth": 0,
              "ticks": ""
             }
            },
            "marker": {
             "colorbar": {
              "outlinewidth": 0,
              "ticks": ""
             }
            },
            "type": "scatter3d"
           }
          ],
          "scattercarpet": [
           {
            "marker": {
             "colorbar": {
              "outlinewidth": 0,
              "ticks": ""
             }
            },
            "type": "scattercarpet"
           }
          ],
          "scattergeo": [
           {
            "marker": {
             "colorbar": {
              "outlinewidth": 0,
              "ticks": ""
             }
            },
            "type": "scattergeo"
           }
          ],
          "scattergl": [
           {
            "marker": {
             "colorbar": {
              "outlinewidth": 0,
              "ticks": ""
             }
            },
            "type": "scattergl"
           }
          ],
          "scattermapbox": [
           {
            "marker": {
             "colorbar": {
              "outlinewidth": 0,
              "ticks": ""
             }
            },
            "type": "scattermapbox"
           }
          ],
          "scatterpolar": [
           {
            "marker": {
             "colorbar": {
              "outlinewidth": 0,
              "ticks": ""
             }
            },
            "type": "scatterpolar"
           }
          ],
          "scatterpolargl": [
           {
            "marker": {
             "colorbar": {
              "outlinewidth": 0,
              "ticks": ""
             }
            },
            "type": "scatterpolargl"
           }
          ],
          "scatterternary": [
           {
            "marker": {
             "colorbar": {
              "outlinewidth": 0,
              "ticks": ""
             }
            },
            "type": "scatterternary"
           }
          ],
          "surface": [
           {
            "colorbar": {
             "outlinewidth": 0,
             "ticks": ""
            },
            "colorscale": [
             [
              0,
              "#0d0887"
             ],
             [
              0.1111111111111111,
              "#46039f"
             ],
             [
              0.2222222222222222,
              "#7201a8"
             ],
             [
              0.3333333333333333,
              "#9c179e"
             ],
             [
              0.4444444444444444,
              "#bd3786"
             ],
             [
              0.5555555555555556,
              "#d8576b"
             ],
             [
              0.6666666666666666,
              "#ed7953"
             ],
             [
              0.7777777777777778,
              "#fb9f3a"
             ],
             [
              0.8888888888888888,
              "#fdca26"
             ],
             [
              1,
              "#f0f921"
             ]
            ],
            "type": "surface"
           }
          ],
          "table": [
           {
            "cells": {
             "fill": {
              "color": "#EBF0F8"
             },
             "line": {
              "color": "white"
             }
            },
            "header": {
             "fill": {
              "color": "#C8D4E3"
             },
             "line": {
              "color": "white"
             }
            },
            "type": "table"
           }
          ]
         },
         "layout": {
          "annotationdefaults": {
           "arrowcolor": "#2a3f5f",
           "arrowhead": 0,
           "arrowwidth": 1
          },
          "autotypenumbers": "strict",
          "coloraxis": {
           "colorbar": {
            "outlinewidth": 0,
            "ticks": ""
           }
          },
          "colorscale": {
           "diverging": [
            [
             0,
             "#8e0152"
            ],
            [
             0.1,
             "#c51b7d"
            ],
            [
             0.2,
             "#de77ae"
            ],
            [
             0.3,
             "#f1b6da"
            ],
            [
             0.4,
             "#fde0ef"
            ],
            [
             0.5,
             "#f7f7f7"
            ],
            [
             0.6,
             "#e6f5d0"
            ],
            [
             0.7,
             "#b8e186"
            ],
            [
             0.8,
             "#7fbc41"
            ],
            [
             0.9,
             "#4d9221"
            ],
            [
             1,
             "#276419"
            ]
           ],
           "sequential": [
            [
             0,
             "#0d0887"
            ],
            [
             0.1111111111111111,
             "#46039f"
            ],
            [
             0.2222222222222222,
             "#7201a8"
            ],
            [
             0.3333333333333333,
             "#9c179e"
            ],
            [
             0.4444444444444444,
             "#bd3786"
            ],
            [
             0.5555555555555556,
             "#d8576b"
            ],
            [
             0.6666666666666666,
             "#ed7953"
            ],
            [
             0.7777777777777778,
             "#fb9f3a"
            ],
            [
             0.8888888888888888,
             "#fdca26"
            ],
            [
             1,
             "#f0f921"
            ]
           ],
           "sequentialminus": [
            [
             0,
             "#0d0887"
            ],
            [
             0.1111111111111111,
             "#46039f"
            ],
            [
             0.2222222222222222,
             "#7201a8"
            ],
            [
             0.3333333333333333,
             "#9c179e"
            ],
            [
             0.4444444444444444,
             "#bd3786"
            ],
            [
             0.5555555555555556,
             "#d8576b"
            ],
            [
             0.6666666666666666,
             "#ed7953"
            ],
            [
             0.7777777777777778,
             "#fb9f3a"
            ],
            [
             0.8888888888888888,
             "#fdca26"
            ],
            [
             1,
             "#f0f921"
            ]
           ]
          },
          "colorway": [
           "#636efa",
           "#EF553B",
           "#00cc96",
           "#ab63fa",
           "#FFA15A",
           "#19d3f3",
           "#FF6692",
           "#B6E880",
           "#FF97FF",
           "#FECB52"
          ],
          "font": {
           "color": "#2a3f5f"
          },
          "geo": {
           "bgcolor": "white",
           "lakecolor": "white",
           "landcolor": "#E5ECF6",
           "showlakes": true,
           "showland": true,
           "subunitcolor": "white"
          },
          "hoverlabel": {
           "align": "left"
          },
          "hovermode": "closest",
          "mapbox": {
           "style": "light"
          },
          "paper_bgcolor": "white",
          "plot_bgcolor": "#E5ECF6",
          "polar": {
           "angularaxis": {
            "gridcolor": "white",
            "linecolor": "white",
            "ticks": ""
           },
           "bgcolor": "#E5ECF6",
           "radialaxis": {
            "gridcolor": "white",
            "linecolor": "white",
            "ticks": ""
           }
          },
          "scene": {
           "xaxis": {
            "backgroundcolor": "#E5ECF6",
            "gridcolor": "white",
            "gridwidth": 2,
            "linecolor": "white",
            "showbackground": true,
            "ticks": "",
            "zerolinecolor": "white"
           },
           "yaxis": {
            "backgroundcolor": "#E5ECF6",
            "gridcolor": "white",
            "gridwidth": 2,
            "linecolor": "white",
            "showbackground": true,
            "ticks": "",
            "zerolinecolor": "white"
           },
           "zaxis": {
            "backgroundcolor": "#E5ECF6",
            "gridcolor": "white",
            "gridwidth": 2,
            "linecolor": "white",
            "showbackground": true,
            "ticks": "",
            "zerolinecolor": "white"
           }
          },
          "shapedefaults": {
           "line": {
            "color": "#2a3f5f"
           }
          },
          "ternary": {
           "aaxis": {
            "gridcolor": "white",
            "linecolor": "white",
            "ticks": ""
           },
           "baxis": {
            "gridcolor": "white",
            "linecolor": "white",
            "ticks": ""
           },
           "bgcolor": "#E5ECF6",
           "caxis": {
            "gridcolor": "white",
            "linecolor": "white",
            "ticks": ""
           }
          },
          "title": {
           "x": 0.05
          },
          "xaxis": {
           "automargin": true,
           "gridcolor": "white",
           "linecolor": "white",
           "ticks": "",
           "title": {
            "standoff": 15
           },
           "zerolinecolor": "white",
           "zerolinewidth": 2
          },
          "yaxis": {
           "automargin": true,
           "gridcolor": "white",
           "linecolor": "white",
           "ticks": "",
           "title": {
            "standoff": 15
           },
           "zerolinecolor": "white",
           "zerolinewidth": 2
          }
         }
        },
        "title": {
         "text": "Comparison of Actual and Predicted POS tags"
        },
        "width": 600,
        "xaxis": {
         "anchor": "y",
         "domain": [
          0,
          1
         ],
         "title": {
          "text": "Log(Count)"
         },
         "type": "log"
        },
        "yaxis": {
         "anchor": "x",
         "domain": [
          0,
          1
         ],
         "title": {
          "text": "POS"
         }
        }
       }
      }
     },
     "metadata": {},
     "output_type": "display_data"
    }
   ],
   "source": [
    "plot_comparison(test_results)"
   ]
  },
  {
   "cell_type": "code",
   "execution_count": null,
   "metadata": {},
   "outputs": [],
   "source": []
  },
  {
   "cell_type": "code",
   "execution_count": 35,
   "metadata": {},
   "outputs": [],
   "source": [
    "def get_pos_distribution(df: pd.DataFrame) -> pd.DataFrame:\n",
    "    pos_counts = df['POS'].value_counts(normalize=True).reset_index()\n",
    "    pos_counts.columns = ['POS', 'Frequency']\n",
    "    return pos_counts"
   ]
  },
  {
   "cell_type": "code",
   "execution_count": 36,
   "metadata": {},
   "outputs": [],
   "source": [
    "train_pos_distribution = get_pos_distribution(df_train)\n",
    "test_pos_distribution = get_pos_distribution(df_test)\n",
    "train_pos_distribution['Dataset'] = 'Train'\n",
    "test_pos_distribution['Dataset'] = 'Test'\n",
    "pos_distribution = pd.concat([train_pos_distribution, test_pos_distribution])"
   ]
  },
  {
   "cell_type": "code",
   "execution_count": 38,
   "metadata": {},
   "outputs": [
    {
     "data": {
      "application/vnd.plotly.v1+json": {
       "config": {
        "plotlyServerURL": "https://plot.ly"
       },
       "data": [
        {
         "alignmentgroup": "True",
         "hovertemplate": "Dataset=Train<br>POS=%{x}<br>Frequency=%{y}<extra></extra>",
         "legendgroup": "Train",
         "marker": {
          "color": "#636efa",
          "pattern": {
           "shape": ""
          }
         },
         "name": "Train",
         "offsetgroup": "Train",
         "orientation": "v",
         "showlegend": true,
         "textposition": "auto",
         "type": "bar",
         "x": [
          "V",
          "ADV",
          "N",
          "CONJ",
          "N09",
          "P",
          "N07",
          "N05",
          "N03",
          "POS",
          "N10",
          "N06",
          "N01",
          "REL",
          "N04",
          "N02",
          "N11",
          "N08",
          "LOC",
          "DEM01",
          "COP",
          "DEM02",
          "N14",
          "DEM",
          "POS15",
          "POS09",
          "M",
          "ADJ00",
          "POS05",
          "ADJ",
          "INT",
          "ADJ06",
          "PRON",
          "PRON15",
          "ADJ05",
          "ADJ04",
          "QUANT01",
          "POS03",
          "ADJ01",
          "POS06",
          "POS10",
          "POS07",
          "POS04",
          "ADJ02",
          "QUANT09",
          "QUANT08",
          "ADJ07",
          "QUANT02",
          "N00",
          "ADJ09",
          "REL10",
          "PRON02",
          "POS01",
          "PRON09",
          "IDEOPH",
          "POS02",
          "ADJ03",
          "POS11",
          "QUANT15",
          "PRON01",
          "POS08",
          "REL09",
          "REL15",
          "QUANT06",
          "QUANT03",
          "REL07",
          "QUANT10",
          "REL02",
          "PRON04",
          "REL06",
          "PRON05",
          "PRON08",
          "REL08",
          "REL03",
          "PRON06",
          "REL04",
          "REL11",
          "QUANT05",
          "PRON10",
          "QUANT04",
          "PRON07",
          "QUANT11",
          "REL05",
          "ADJ08",
          "PRON03",
          "REL01",
          "PRON11",
          "NUM09",
          "QUANT07",
          "NUM15",
          "POS14",
          "PRES",
          "REL14",
          "DEM03",
          "NUM03",
          "NUM06",
          "QUANT14",
          "NUM07"
         ],
         "xaxis": "x",
         "y": [
          0.3311860341894643,
          0.0640564432917817,
          0.059120443961069746,
          0.05702891882093756,
          0.04581834406982905,
          0.044423993976407596,
          0.03497030034301012,
          0.03290666220474637,
          0.031121894085166905,
          0.027301374829192114,
          0.02548871970774422,
          0.023843386597506903,
          0.021166234418137708,
          0.019520901307900386,
          0.01720628015282077,
          0.01681586212666276,
          0.01528207702389916,
          0.015114755012688585,
          0.014752223988399007,
          0.011740427786608661,
          0.008393987562397167,
          0.00800356953623916,
          0.006190914414791266,
          0.00415516327839594,
          0.004071502272790652,
          0.0029560221980534872,
          0.0026492651775007667,
          0.0025098301681586214,
          0.002481943166290192,
          0.001979977132658468,
          0.0019242031289216097,
          0.0019242031289216097,
          0.0018126551214478932,
          0.0016732201121057474,
          0.0016732201121057474,
          0.001561672104632031,
          0.0014780110990267436,
          0.0014222370952898854,
          0.0014222370952898854,
          0.0013943500934214563,
          0.0012549150840793107,
          0.0012549150840793107,
          0.0012270280822108816,
          0.0011433670766055942,
          0.0011433670766055942,
          0.001115480074737165,
          0.001115480074737165,
          0.001087593072868736,
          0.0010597060710003069,
          0.0010318190691318775,
          0.0010039320672634484,
          0.0009202710616581612,
          0.0009202710616581612,
          0.0008644970579213028,
          0.0008644970579213028,
          0.0008366100560528737,
          0.0008366100560528737,
          0.0008087230541844446,
          0.0007808360523160155,
          0.0007529490504475864,
          0.0007529490504475864,
          0.0007529490504475864,
          0.0006414010429738699,
          0.0006414010429738699,
          0.0006135140411054408,
          0.0005856270392370117,
          0.0005856270392370117,
          0.0005298530355001534,
          0.00047407903176329515,
          0.00047407903176329515,
          0.00041830502802643686,
          0.00041830502802643686,
          0.00039041802615800774,
          0.00039041802615800774,
          0.0003625310242895786,
          0.0003625310242895786,
          0.0003346440224211495,
          0.0003346440224211495,
          0.0003067570205527204,
          0.0002788700186842913,
          0.0002788700186842913,
          0.00022309601494743301,
          0.00019520901307900387,
          0.00019520901307900387,
          0.00016732201121057475,
          0.00011154800747371651,
          0.00008366100560528738,
          0.00008366100560528738,
          0.000055774003736858254,
          0.000055774003736858254,
          0.000055774003736858254,
          0.000055774003736858254,
          0.000055774003736858254,
          0.000055774003736858254,
          0.000027887001868429127,
          0.000027887001868429127,
          0.000027887001868429127,
          0.000027887001868429127
         ],
         "yaxis": "y"
        },
        {
         "alignmentgroup": "True",
         "hovertemplate": "Dataset=Test<br>POS=%{x}<br>Frequency=%{y}<extra></extra>",
         "legendgroup": "Test",
         "marker": {
          "color": "#EF553B",
          "pattern": {
           "shape": ""
          }
         },
         "name": "Test",
         "offsetgroup": "Test",
         "orientation": "v",
         "showlegend": true,
         "textposition": "auto",
         "type": "bar",
         "x": [
          "V",
          "ADV",
          "N",
          "CONJ",
          "P",
          "N09",
          "N05",
          "N03",
          "N07",
          "N10",
          "POS",
          "N06",
          "N01",
          "N04",
          "N02",
          "REL",
          "DEM01",
          "N11",
          "LOC",
          "N08",
          "COP",
          "POS15",
          "N14",
          "DEM02",
          "ADJ",
          "POS09",
          "ADJ00",
          "PRON",
          "POS05",
          "ADJ05",
          "ADJ02",
          "ADJ04",
          "POS10",
          "DEM",
          "POS11",
          "ADJ01",
          "QUANT01",
          "POS08",
          "ADJ07",
          "PRON01",
          "ADJ06",
          "POS01",
          "REL02",
          "REL15",
          "QUANT02",
          "PRON15",
          "M",
          "QUANT08",
          "PRON08",
          "INT",
          "REL08",
          "QUANT03",
          "QUANT05",
          "N00",
          "ADJ09",
          "PRON03",
          "ADJ08",
          "IDEOPH",
          "QUANT15",
          "POS02",
          "QUANT09",
          "PRON02",
          "PRON05",
          "QUANT10",
          "POS06",
          "QUANT07",
          "REL09",
          "POS07",
          "REL11",
          "PRON04",
          "POS03",
          "REL14",
          "REL04",
          "REL07",
          "PRON09",
          "PRON06"
         ],
         "xaxis": "x",
         "y": [
          0.37742456896551724,
          0.06465517241379311,
          0.05818965517241379,
          0.04283405172413793,
          0.03987068965517242,
          0.03502155172413793,
          0.0334051724137931,
          0.0334051724137931,
          0.03259698275862069,
          0.02478448275862069,
          0.024245689655172414,
          0.02235991379310345,
          0.02209051724137931,
          0.018318965517241378,
          0.01804956896551724,
          0.01670258620689655,
          0.01670258620689655,
          0.014547413793103448,
          0.014008620689655173,
          0.01050646551724138,
          0.005657327586206897,
          0.0051185344827586205,
          0.004310344827586207,
          0.004310344827586207,
          0.004040948275862069,
          0.003771551724137931,
          0.003502155172413793,
          0.003232758620689655,
          0.002963362068965517,
          0.0024245689655172415,
          0.0024245689655172415,
          0.0024245689655172415,
          0.0021551724137931034,
          0.0021551724137931034,
          0.0018857758620689656,
          0.0018857758620689656,
          0.0016163793103448276,
          0.0013469827586206897,
          0.0013469827586206897,
          0.0013469827586206897,
          0.0010775862068965517,
          0.0010775862068965517,
          0.0010775862068965517,
          0.0010775862068965517,
          0.0010775862068965517,
          0.0010775862068965517,
          0.0010775862068965517,
          0.0008081896551724138,
          0.0008081896551724138,
          0.0008081896551724138,
          0.0008081896551724138,
          0.0008081896551724138,
          0.0008081896551724138,
          0.0008081896551724138,
          0.0005387931034482759,
          0.0005387931034482759,
          0.0005387931034482759,
          0.0005387931034482759,
          0.0005387931034482759,
          0.0005387931034482759,
          0.0005387931034482759,
          0.0005387931034482759,
          0.0005387931034482759,
          0.0005387931034482759,
          0.0005387931034482759,
          0.0005387931034482759,
          0.00026939655172413793,
          0.00026939655172413793,
          0.00026939655172413793,
          0.00026939655172413793,
          0.00026939655172413793,
          0.00026939655172413793,
          0.00026939655172413793,
          0.00026939655172413793,
          0.00026939655172413793,
          0.00026939655172413793
         ],
         "yaxis": "y"
        }
       ],
       "layout": {
        "barmode": "group",
        "legend": {
         "title": {
          "text": "Dataset"
         },
         "tracegroupgap": 0
        },
        "template": {
         "data": {
          "bar": [
           {
            "error_x": {
             "color": "#2a3f5f"
            },
            "error_y": {
             "color": "#2a3f5f"
            },
            "marker": {
             "line": {
              "color": "#E5ECF6",
              "width": 0.5
             },
             "pattern": {
              "fillmode": "overlay",
              "size": 10,
              "solidity": 0.2
             }
            },
            "type": "bar"
           }
          ],
          "barpolar": [
           {
            "marker": {
             "line": {
              "color": "#E5ECF6",
              "width": 0.5
             },
             "pattern": {
              "fillmode": "overlay",
              "size": 10,
              "solidity": 0.2
             }
            },
            "type": "barpolar"
           }
          ],
          "carpet": [
           {
            "aaxis": {
             "endlinecolor": "#2a3f5f",
             "gridcolor": "white",
             "linecolor": "white",
             "minorgridcolor": "white",
             "startlinecolor": "#2a3f5f"
            },
            "baxis": {
             "endlinecolor": "#2a3f5f",
             "gridcolor": "white",
             "linecolor": "white",
             "minorgridcolor": "white",
             "startlinecolor": "#2a3f5f"
            },
            "type": "carpet"
           }
          ],
          "choropleth": [
           {
            "colorbar": {
             "outlinewidth": 0,
             "ticks": ""
            },
            "type": "choropleth"
           }
          ],
          "contour": [
           {
            "colorbar": {
             "outlinewidth": 0,
             "ticks": ""
            },
            "colorscale": [
             [
              0,
              "#0d0887"
             ],
             [
              0.1111111111111111,
              "#46039f"
             ],
             [
              0.2222222222222222,
              "#7201a8"
             ],
             [
              0.3333333333333333,
              "#9c179e"
             ],
             [
              0.4444444444444444,
              "#bd3786"
             ],
             [
              0.5555555555555556,
              "#d8576b"
             ],
             [
              0.6666666666666666,
              "#ed7953"
             ],
             [
              0.7777777777777778,
              "#fb9f3a"
             ],
             [
              0.8888888888888888,
              "#fdca26"
             ],
             [
              1,
              "#f0f921"
             ]
            ],
            "type": "contour"
           }
          ],
          "contourcarpet": [
           {
            "colorbar": {
             "outlinewidth": 0,
             "ticks": ""
            },
            "type": "contourcarpet"
           }
          ],
          "heatmap": [
           {
            "colorbar": {
             "outlinewidth": 0,
             "ticks": ""
            },
            "colorscale": [
             [
              0,
              "#0d0887"
             ],
             [
              0.1111111111111111,
              "#46039f"
             ],
             [
              0.2222222222222222,
              "#7201a8"
             ],
             [
              0.3333333333333333,
              "#9c179e"
             ],
             [
              0.4444444444444444,
              "#bd3786"
             ],
             [
              0.5555555555555556,
              "#d8576b"
             ],
             [
              0.6666666666666666,
              "#ed7953"
             ],
             [
              0.7777777777777778,
              "#fb9f3a"
             ],
             [
              0.8888888888888888,
              "#fdca26"
             ],
             [
              1,
              "#f0f921"
             ]
            ],
            "type": "heatmap"
           }
          ],
          "heatmapgl": [
           {
            "colorbar": {
             "outlinewidth": 0,
             "ticks": ""
            },
            "colorscale": [
             [
              0,
              "#0d0887"
             ],
             [
              0.1111111111111111,
              "#46039f"
             ],
             [
              0.2222222222222222,
              "#7201a8"
             ],
             [
              0.3333333333333333,
              "#9c179e"
             ],
             [
              0.4444444444444444,
              "#bd3786"
             ],
             [
              0.5555555555555556,
              "#d8576b"
             ],
             [
              0.6666666666666666,
              "#ed7953"
             ],
             [
              0.7777777777777778,
              "#fb9f3a"
             ],
             [
              0.8888888888888888,
              "#fdca26"
             ],
             [
              1,
              "#f0f921"
             ]
            ],
            "type": "heatmapgl"
           }
          ],
          "histogram": [
           {
            "marker": {
             "pattern": {
              "fillmode": "overlay",
              "size": 10,
              "solidity": 0.2
             }
            },
            "type": "histogram"
           }
          ],
          "histogram2d": [
           {
            "colorbar": {
             "outlinewidth": 0,
             "ticks": ""
            },
            "colorscale": [
             [
              0,
              "#0d0887"
             ],
             [
              0.1111111111111111,
              "#46039f"
             ],
             [
              0.2222222222222222,
              "#7201a8"
             ],
             [
              0.3333333333333333,
              "#9c179e"
             ],
             [
              0.4444444444444444,
              "#bd3786"
             ],
             [
              0.5555555555555556,
              "#d8576b"
             ],
             [
              0.6666666666666666,
              "#ed7953"
             ],
             [
              0.7777777777777778,
              "#fb9f3a"
             ],
             [
              0.8888888888888888,
              "#fdca26"
             ],
             [
              1,
              "#f0f921"
             ]
            ],
            "type": "histogram2d"
           }
          ],
          "histogram2dcontour": [
           {
            "colorbar": {
             "outlinewidth": 0,
             "ticks": ""
            },
            "colorscale": [
             [
              0,
              "#0d0887"
             ],
             [
              0.1111111111111111,
              "#46039f"
             ],
             [
              0.2222222222222222,
              "#7201a8"
             ],
             [
              0.3333333333333333,
              "#9c179e"
             ],
             [
              0.4444444444444444,
              "#bd3786"
             ],
             [
              0.5555555555555556,
              "#d8576b"
             ],
             [
              0.6666666666666666,
              "#ed7953"
             ],
             [
              0.7777777777777778,
              "#fb9f3a"
             ],
             [
              0.8888888888888888,
              "#fdca26"
             ],
             [
              1,
              "#f0f921"
             ]
            ],
            "type": "histogram2dcontour"
           }
          ],
          "mesh3d": [
           {
            "colorbar": {
             "outlinewidth": 0,
             "ticks": ""
            },
            "type": "mesh3d"
           }
          ],
          "parcoords": [
           {
            "line": {
             "colorbar": {
              "outlinewidth": 0,
              "ticks": ""
             }
            },
            "type": "parcoords"
           }
          ],
          "pie": [
           {
            "automargin": true,
            "type": "pie"
           }
          ],
          "scatter": [
           {
            "fillpattern": {
             "fillmode": "overlay",
             "size": 10,
             "solidity": 0.2
            },
            "type": "scatter"
           }
          ],
          "scatter3d": [
           {
            "line": {
             "colorbar": {
              "outlinewidth": 0,
              "ticks": ""
             }
            },
            "marker": {
             "colorbar": {
              "outlinewidth": 0,
              "ticks": ""
             }
            },
            "type": "scatter3d"
           }
          ],
          "scattercarpet": [
           {
            "marker": {
             "colorbar": {
              "outlinewidth": 0,
              "ticks": ""
             }
            },
            "type": "scattercarpet"
           }
          ],
          "scattergeo": [
           {
            "marker": {
             "colorbar": {
              "outlinewidth": 0,
              "ticks": ""
             }
            },
            "type": "scattergeo"
           }
          ],
          "scattergl": [
           {
            "marker": {
             "colorbar": {
              "outlinewidth": 0,
              "ticks": ""
             }
            },
            "type": "scattergl"
           }
          ],
          "scattermapbox": [
           {
            "marker": {
             "colorbar": {
              "outlinewidth": 0,
              "ticks": ""
             }
            },
            "type": "scattermapbox"
           }
          ],
          "scatterpolar": [
           {
            "marker": {
             "colorbar": {
              "outlinewidth": 0,
              "ticks": ""
             }
            },
            "type": "scatterpolar"
           }
          ],
          "scatterpolargl": [
           {
            "marker": {
             "colorbar": {
              "outlinewidth": 0,
              "ticks": ""
             }
            },
            "type": "scatterpolargl"
           }
          ],
          "scatterternary": [
           {
            "marker": {
             "colorbar": {
              "outlinewidth": 0,
              "ticks": ""
             }
            },
            "type": "scatterternary"
           }
          ],
          "surface": [
           {
            "colorbar": {
             "outlinewidth": 0,
             "ticks": ""
            },
            "colorscale": [
             [
              0,
              "#0d0887"
             ],
             [
              0.1111111111111111,
              "#46039f"
             ],
             [
              0.2222222222222222,
              "#7201a8"
             ],
             [
              0.3333333333333333,
              "#9c179e"
             ],
             [
              0.4444444444444444,
              "#bd3786"
             ],
             [
              0.5555555555555556,
              "#d8576b"
             ],
             [
              0.6666666666666666,
              "#ed7953"
             ],
             [
              0.7777777777777778,
              "#fb9f3a"
             ],
             [
              0.8888888888888888,
              "#fdca26"
             ],
             [
              1,
              "#f0f921"
             ]
            ],
            "type": "surface"
           }
          ],
          "table": [
           {
            "cells": {
             "fill": {
              "color": "#EBF0F8"
             },
             "line": {
              "color": "white"
             }
            },
            "header": {
             "fill": {
              "color": "#C8D4E3"
             },
             "line": {
              "color": "white"
             }
            },
            "type": "table"
           }
          ]
         },
         "layout": {
          "annotationdefaults": {
           "arrowcolor": "#2a3f5f",
           "arrowhead": 0,
           "arrowwidth": 1
          },
          "autotypenumbers": "strict",
          "coloraxis": {
           "colorbar": {
            "outlinewidth": 0,
            "ticks": ""
           }
          },
          "colorscale": {
           "diverging": [
            [
             0,
             "#8e0152"
            ],
            [
             0.1,
             "#c51b7d"
            ],
            [
             0.2,
             "#de77ae"
            ],
            [
             0.3,
             "#f1b6da"
            ],
            [
             0.4,
             "#fde0ef"
            ],
            [
             0.5,
             "#f7f7f7"
            ],
            [
             0.6,
             "#e6f5d0"
            ],
            [
             0.7,
             "#b8e186"
            ],
            [
             0.8,
             "#7fbc41"
            ],
            [
             0.9,
             "#4d9221"
            ],
            [
             1,
             "#276419"
            ]
           ],
           "sequential": [
            [
             0,
             "#0d0887"
            ],
            [
             0.1111111111111111,
             "#46039f"
            ],
            [
             0.2222222222222222,
             "#7201a8"
            ],
            [
             0.3333333333333333,
             "#9c179e"
            ],
            [
             0.4444444444444444,
             "#bd3786"
            ],
            [
             0.5555555555555556,
             "#d8576b"
            ],
            [
             0.6666666666666666,
             "#ed7953"
            ],
            [
             0.7777777777777778,
             "#fb9f3a"
            ],
            [
             0.8888888888888888,
             "#fdca26"
            ],
            [
             1,
             "#f0f921"
            ]
           ],
           "sequentialminus": [
            [
             0,
             "#0d0887"
            ],
            [
             0.1111111111111111,
             "#46039f"
            ],
            [
             0.2222222222222222,
             "#7201a8"
            ],
            [
             0.3333333333333333,
             "#9c179e"
            ],
            [
             0.4444444444444444,
             "#bd3786"
            ],
            [
             0.5555555555555556,
             "#d8576b"
            ],
            [
             0.6666666666666666,
             "#ed7953"
            ],
            [
             0.7777777777777778,
             "#fb9f3a"
            ],
            [
             0.8888888888888888,
             "#fdca26"
            ],
            [
             1,
             "#f0f921"
            ]
           ]
          },
          "colorway": [
           "#636efa",
           "#EF553B",
           "#00cc96",
           "#ab63fa",
           "#FFA15A",
           "#19d3f3",
           "#FF6692",
           "#B6E880",
           "#FF97FF",
           "#FECB52"
          ],
          "font": {
           "color": "#2a3f5f"
          },
          "geo": {
           "bgcolor": "white",
           "lakecolor": "white",
           "landcolor": "#E5ECF6",
           "showlakes": true,
           "showland": true,
           "subunitcolor": "white"
          },
          "hoverlabel": {
           "align": "left"
          },
          "hovermode": "closest",
          "mapbox": {
           "style": "light"
          },
          "paper_bgcolor": "white",
          "plot_bgcolor": "#E5ECF6",
          "polar": {
           "angularaxis": {
            "gridcolor": "white",
            "linecolor": "white",
            "ticks": ""
           },
           "bgcolor": "#E5ECF6",
           "radialaxis": {
            "gridcolor": "white",
            "linecolor": "white",
            "ticks": ""
           }
          },
          "scene": {
           "xaxis": {
            "backgroundcolor": "#E5ECF6",
            "gridcolor": "white",
            "gridwidth": 2,
            "linecolor": "white",
            "showbackground": true,
            "ticks": "",
            "zerolinecolor": "white"
           },
           "yaxis": {
            "backgroundcolor": "#E5ECF6",
            "gridcolor": "white",
            "gridwidth": 2,
            "linecolor": "white",
            "showbackground": true,
            "ticks": "",
            "zerolinecolor": "white"
           },
           "zaxis": {
            "backgroundcolor": "#E5ECF6",
            "gridcolor": "white",
            "gridwidth": 2,
            "linecolor": "white",
            "showbackground": true,
            "ticks": "",
            "zerolinecolor": "white"
           }
          },
          "shapedefaults": {
           "line": {
            "color": "#2a3f5f"
           }
          },
          "ternary": {
           "aaxis": {
            "gridcolor": "white",
            "linecolor": "white",
            "ticks": ""
           },
           "baxis": {
            "gridcolor": "white",
            "linecolor": "white",
            "ticks": ""
           },
           "bgcolor": "#E5ECF6",
           "caxis": {
            "gridcolor": "white",
            "linecolor": "white",
            "ticks": ""
           }
          },
          "title": {
           "x": 0.05
          },
          "xaxis": {
           "automargin": true,
           "gridcolor": "white",
           "linecolor": "white",
           "ticks": "",
           "title": {
            "standoff": 15
           },
           "zerolinecolor": "white",
           "zerolinewidth": 2
          },
          "yaxis": {
           "automargin": true,
           "gridcolor": "white",
           "linecolor": "white",
           "ticks": "",
           "title": {
            "standoff": 15
           },
           "zerolinecolor": "white",
           "zerolinewidth": 2
          }
         }
        },
        "title": {
         "text": "Normalized POS Tag Distributions in Training and Testing Data"
        },
        "xaxis": {
         "anchor": "y",
         "domain": [
          0,
          1
         ],
         "title": {
          "text": "POS"
         }
        },
        "yaxis": {
         "anchor": "x",
         "domain": [
          0,
          1
         ],
         "title": {
          "text": "Frequency"
         },
         "type": "log"
        }
       }
      }
     },
     "metadata": {},
     "output_type": "display_data"
    }
   ],
   "source": [
    "fig = px.bar(pos_distribution, x='POS', y='Frequency', color='Dataset', log_y=True,\n",
    "             title='Normalized POS Tag Distributions in Training and Testing Data', barmode='group')\n",
    "fig.show()\n"
   ]
  },
  {
   "cell_type": "code",
   "execution_count": null,
   "metadata": {},
   "outputs": [],
   "source": []
  }
 ],
 "metadata": {
  "kernelspec": {
   "display_name": "mlai_nlp",
   "language": "python",
   "name": "python3"
  },
  "language_info": {
   "codemirror_mode": {
    "name": "ipython",
    "version": 3
   },
   "file_extension": ".py",
   "mimetype": "text/x-python",
   "name": "python",
   "nbconvert_exporter": "python",
   "pygments_lexer": "ipython3",
   "version": "3.9.10"
  },
  "orig_nbformat": 4
 },
 "nbformat": 4,
 "nbformat_minor": 2
}
