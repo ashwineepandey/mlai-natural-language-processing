{
 "cells": [
  {
   "cell_type": "code",
   "execution_count": 1,
   "metadata": {},
   "outputs": [],
   "source": [
    "import torch\n",
    "import torch.nn as nn\n",
    "import torch.nn.functional as F\n",
    "from torch.utils.data import Dataset, DataLoader\n",
    "from torch.nn.utils.rnn import pad_sequence\n",
    "import numpy as np\n",
    "import pandas as pd\n",
    "from sklearn.model_selection import train_test_split\n",
    "from collections import Counter\n",
    "import string\n",
    "import random\n",
    "from typing import List, Tuple\n",
    "import math\n",
    "import plotly.express as px\n",
    "import plotly.graph_objects as go\n",
    "from sklearn.decomposition import PCA\n",
    "from sklearn.manifold import TSNE\n",
    "from sklearn.metrics.pairwise import cosine_similarity\n",
    "import matplotlib.pyplot as plt\n",
    "\n",
    "import log\n",
    "import mynlputils as nu"
   ]
  },
  {
   "cell_type": "code",
   "execution_count": 2,
   "metadata": {},
   "outputs": [],
   "source": [
    "logger = log.get_logger(__name__)"
   ]
  },
  {
   "cell_type": "code",
   "execution_count": 3,
   "metadata": {},
   "outputs": [],
   "source": [
    "@nu.timer\n",
    "def load_data(raw_txt_train_path: str, raw_txt_test_path: str) -> Tuple[pd.DataFrame, pd.DataFrame]:\n",
    "    df_train = pd.read_csv(raw_txt_train_path, header=None, names=[\"label\", \"title\", \"description\"])\n",
    "    df_test = pd.read_csv(raw_txt_test_path, header=None, names=[\"label\", \"title\", \"description\"])\n",
    "    return df_train[[\"label\", \"description\"]], df_test[[\"label\", \"description\"]]\n",
    "\n",
    "@nu.timer\n",
    "def create_validation_set(corpus: pd.DataFrame, valid_size: float) -> Tuple[pd.DataFrame, pd.DataFrame]:\n",
    "    train_corpus, valid_corpus = train_test_split(corpus, test_size=valid_size, random_state=1)\n",
    "    return train_corpus.reset_index(drop=True), valid_corpus.reset_index(drop=True)\n",
    "\n",
    "@nu.timer\n",
    "def clean_text(docs: pd.DataFrame) -> pd.DataFrame:\n",
    "    clean_docs = docs['description']\n",
    "    clean_docs = clean_docs.str.replace(\"-\", \" \")\n",
    "    clean_docs = clean_docs.str.replace(\"quot;\", \" \")\n",
    "    clean_docs = clean_docs.str.replace(\"#39;s\", \"'\")\n",
    "    translation_table = str.maketrans('', '', string.punctuation)\n",
    "    clean_docs = clean_docs.str.translate(translation_table)\n",
    "    clean_docs = clean_docs.str.lower()\n",
    "    clean_docs = clean_docs.str.replace(r'\\d+', ' <NUM> ')\n",
    "    clean_docs = clean_docs.str.replace(r'\\s+', ' ')\n",
    "    return clean_docs.to_frame()\n",
    "\n",
    "@nu.timer\n",
    "def split_docs(docs: pd.DataFrame) -> pd.DataFrame:\n",
    "    return docs['description'].str.split().to_list()\n",
    "\n",
    "@nu.timer\n",
    "def tokenize(tokens: List[List[str]], min_freq: int = 5):\n",
    "    word_freq = Counter([word for sentence in tokens for word in sentence])\n",
    "    vocab = [word for word, freq in word_freq.items() if freq >= min_freq]\n",
    "    vocab = ['<PAD>', '<UNK>'] + vocab\n",
    "    word2idx = {word: idx for idx, word in enumerate(vocab)}\n",
    "    idx_tokens = [[word2idx.get(word, 1) for word in sentence] for sentence in tokens]\n",
    "    return vocab, idx_tokens, word2idx\n",
    "\n",
    "@nu.timer\n",
    "def create_skipgrams(corpus, window_size, pad_idx):\n",
    "    data = []\n",
    "    for sentence in corpus:\n",
    "        padded_sentence = [pad_idx] * window_size + sentence + [pad_idx] * window_size\n",
    "        for word_index in range(window_size, len(padded_sentence) - window_size):\n",
    "            contexts = padded_sentence[word_index - window_size : word_index] + padded_sentence[word_index + 1 : word_index + window_size + 1]\n",
    "            data.append((contexts, padded_sentence[word_index]))\n",
    "    return data\n",
    "\n",
    "@nu.timer\n",
    "def create_batches(skipgrams, word2idx, pad_idx, batch_size=32, num_neg_samples=5):\n",
    "    words_list = list(word2idx.keys())\n",
    "    vocab_size = len(words_list)\n",
    "    n = len(skipgrams)\n",
    "\n",
    "    # Shuffle skipgrams\n",
    "    random.shuffle(skipgrams)\n",
    "\n",
    "    batches = []\n",
    "\n",
    "    for batch_start in range(0, n, batch_size):\n",
    "        context_batch = []\n",
    "        target_batch = []\n",
    "        negative_batch = []\n",
    "\n",
    "        # Create batches\n",
    "        for contexts, target in skipgrams[batch_start:batch_start + batch_size]:\n",
    "            negatives = [random.choice(range(vocab_size)) for _ in range(num_neg_samples)]\n",
    "            context_batch.append(torch.LongTensor(contexts))\n",
    "            target_batch.append(torch.LongTensor([target]))\n",
    "            negative_batch.append(torch.LongTensor(negatives))\n",
    "\n",
    "        # If this is the last batch and it's not full, skip it\n",
    "        if len(context_batch) < batch_size:\n",
    "            continue\n",
    "\n",
    "        # Pad context sequences in batch\n",
    "        context_batch = pad_sequence(context_batch, batch_first=True, padding_value=pad_idx)\n",
    "\n",
    "        # Convert target and negative batches to tensors\n",
    "        target_batch = torch.stack(target_batch)\n",
    "        negative_batch = torch.stack(negative_batch)\n",
    "\n",
    "        batches.append((context_batch, target_batch, negative_batch))\n",
    "        \n",
    "    return batches\n",
    "\n",
    "\n",
    "class CBOW_NS(nn.Module):\n",
    "    def __init__(self, vocab_size, embed_size):\n",
    "        super(CBOW_NS, self).__init__()\n",
    "        self.embeddings = nn.Embedding(vocab_size, embed_size)\n",
    "\n",
    "    def forward(self, context_words, target_word, negative_words):\n",
    "        # Get embeddings for context words, target word and negative words\n",
    "        context_embeds = self.embeddings(context_words)  # (batch_size, window_size*2, embed_size)\n",
    "        target_embeds = self.embeddings(target_word)    # (batch_size, 1, embed_size)\n",
    "        negative_embeds = self.embeddings(negative_words)# (batch_size, num_neg_samples, embed_size)\n",
    "\n",
    "        # Sum the context word embeddings\n",
    "        context_embeds_sum = torch.sum(context_embeds, dim=1, keepdim=True)  # (batch_size, 1, embed_size)\n",
    "\n",
    "        # Compute positive score\n",
    "        pos_score = torch.bmm(context_embeds_sum, target_embeds.transpose(1,2)) # (batch_size, 1, 1)\n",
    "        pos_score = F.logsigmoid(pos_score)\n",
    "\n",
    "        # Compute negative score\n",
    "        neg_score = torch.bmm(context_embeds_sum, negative_embeds.transpose(1,2)) # (batch_size, 1, num_neg_samples)\n",
    "        neg_score = F.logsigmoid(-neg_score)\n",
    "\n",
    "        # Return negative of total score\n",
    "        return -(torch.sum(pos_score) + torch.sum(neg_score))\n",
    "    \n",
    "@nu.timer\n",
    "def train(model, epochs, train_batches, val_batches, lr):\n",
    "    optimizer = torch.optim.Adam(model.parameters(), lr=lr)\n",
    "    train_losses = []\n",
    "    val_losses = []\n",
    "    for epoch in range(epochs):\n",
    "        total_loss = 0\n",
    "        batch_count = 0\n",
    "        for context_batch, target_batch, negative_batch in train_batches:\n",
    "            model.zero_grad()\n",
    "            loss = model(context_batch, target_batch, negative_batch)\n",
    "            loss.backward()\n",
    "            optimizer.step()\n",
    "            total_loss += loss.item()\n",
    "            batch_count += 1\n",
    "        train_loss = total_loss / batch_count\n",
    "        train_losses.append(train_loss)\n",
    "\n",
    "        model.eval()  # set model to eval mode\n",
    "        val_loss = evaluate(model, val_batches)\n",
    "        val_losses.append(val_loss)\n",
    "\n",
    "        logger.info(f'Epoch {epoch}, Train Loss: {train_losses[-1]}, Validation Loss: {val_loss[-1]}')\n",
    "    return model, train_losses, val_losses\n",
    "\n",
    "\n",
    "def evaluate(model, batches):\n",
    "    total_loss = 0\n",
    "    batch_count = 0\n",
    "    with torch.no_grad():  # disable gradient computation to save memory\n",
    "        for context_batch, target_batch, negative_batch in batches:\n",
    "            loss = model(context_batch, target_batch, negative_batch)\n",
    "            total_loss += loss.item()\n",
    "            batch_count += 1\n",
    "    return total_loss / batch_count\n",
    "\n",
    "\n",
    "def plot_losses(train_losses, val_losses, epochs):\n",
    "    epochs_range = list(range(1, epochs + 1))\n",
    "    fig = go.Figure()\n",
    "    fig.add_trace(go.Scatter(x=epochs_range, y=train_losses, mode='lines', name='Train Loss'))\n",
    "    fig.add_trace(go.Scatter(x=epochs_range, y=val_losses, mode='lines', name='Validation Loss'))\n",
    "    fig.update_layout(title='Loss over Epochs', xaxis=dict(title='Epoch'), yaxis=dict(title='Loss'))\n",
    "    fig.show()"
   ]
  },
  {
   "cell_type": "code",
   "execution_count": 31,
   "metadata": {},
   "outputs": [
    {
     "name": "stderr",
     "output_type": "stream",
     "text": [
      "24-Jul-23 19:52:59 - INFO - Starting 'load_config'.\n",
      "24-Jul-23 19:52:59 - INFO - Finished 'load_config' in 0.0256 secs.\n"
     ]
    }
   ],
   "source": [
    "conf = nu.load_config(\"a3\")"
   ]
  },
  {
   "cell_type": "code",
   "execution_count": 4,
   "metadata": {},
   "outputs": [
    {
     "name": "stderr",
     "output_type": "stream",
     "text": [
      "24-Jul-23 19:30:06 - INFO - Starting 'load_config'.\n",
      "24-Jul-23 19:30:06 - INFO - Finished 'load_config' in 0.0196 secs.\n",
      "24-Jul-23 19:30:06 - INFO - Starting 'load_data'.\n",
      "24-Jul-23 19:30:06 - INFO - Finished 'load_data' in 0.3146 secs.\n",
      "24-Jul-23 19:30:06 - INFO - Starting 'create_validation_set'.\n",
      "24-Jul-23 19:30:06 - INFO - Finished 'create_validation_set' in 0.0076 secs.\n",
      "24-Jul-23 19:30:06 - INFO - Starting 'clean_text'.\n",
      "/var/folders/0g/blggksdj42z52nv3fy0h5b880000gn/T/ipykernel_25296/2887024429.py:21: FutureWarning: The default value of regex will change from True to False in a future version.\n",
      "  clean_docs = clean_docs.str.replace(r'\\d+', ' <NUM> ')\n",
      "/var/folders/0g/blggksdj42z52nv3fy0h5b880000gn/T/ipykernel_25296/2887024429.py:22: FutureWarning: The default value of regex will change from True to False in a future version.\n",
      "  clean_docs = clean_docs.str.replace(r'\\s+', ' ')\n",
      "24-Jul-23 19:30:07 - INFO - Finished 'clean_text' in 1.4201 secs.\n",
      "24-Jul-23 19:30:07 - INFO - Starting 'clean_text'.\n",
      "24-Jul-23 19:30:08 - INFO - Finished 'clean_text' in 0.1519 secs.\n",
      "24-Jul-23 19:30:08 - INFO - Starting 'clean_text'.\n",
      "24-Jul-23 19:30:08 - INFO - Finished 'clean_text' in 0.1036 secs.\n",
      "24-Jul-23 19:30:08 - INFO - Starting 'split_docs'.\n",
      "24-Jul-23 19:30:08 - INFO - Finished 'split_docs' in 0.2672 secs.\n",
      "24-Jul-23 19:30:08 - INFO - Starting 'split_docs'.\n",
      "24-Jul-23 19:30:08 - INFO - Finished 'split_docs' in 0.0250 secs.\n",
      "24-Jul-23 19:30:08 - INFO - Starting 'split_docs'.\n",
      "24-Jul-23 19:30:08 - INFO - Finished 'split_docs' in 0.0126 secs.\n",
      "24-Jul-23 19:30:08 - INFO - Starting 'tokenize'.\n",
      "24-Jul-23 19:30:09 - INFO - Finished 'tokenize' in 0.7863 secs.\n",
      "24-Jul-23 19:30:09 - INFO - Starting 'tokenize'.\n",
      "24-Jul-23 19:30:09 - INFO - Finished 'tokenize' in 0.0677 secs.\n",
      "24-Jul-23 19:30:09 - INFO - Starting 'tokenize'.\n",
      "24-Jul-23 19:30:09 - INFO - Finished 'tokenize' in 0.0399 secs.\n",
      "24-Jul-23 19:30:09 - INFO - Starting 'create_skipgrams'.\n",
      "24-Jul-23 19:30:12 - INFO - Finished 'create_skipgrams' in 3.5077 secs.\n",
      "24-Jul-23 19:30:12 - INFO - Starting 'create_skipgrams'.\n",
      "24-Jul-23 19:30:13 - INFO - Finished 'create_skipgrams' in 0.5400 secs.\n",
      "24-Jul-23 19:30:13 - INFO - Starting 'create_skipgrams'.\n",
      "24-Jul-23 19:30:13 - INFO - Finished 'create_skipgrams' in 0.0665 secs.\n",
      "24-Jul-23 19:30:13 - INFO - Starting 'create_batches'.\n",
      "24-Jul-23 19:30:43 - INFO - Finished 'create_batches' in 30.4671 secs.\n",
      "24-Jul-23 19:30:43 - INFO - Starting 'create_batches'.\n",
      "24-Jul-23 19:30:47 - INFO - Finished 'create_batches' in 3.2806 secs.\n",
      "24-Jul-23 19:30:47 - INFO - Starting 'create_batches'.\n",
      "24-Jul-23 19:30:49 - INFO - Finished 'create_batches' in 2.1091 secs.\n"
     ]
    }
   ],
   "source": [
    "# conf = nu.load_config(\"a3\")\n",
    "df_train, df_test = load_data(conf.paths.raw_txt_train, conf.paths.raw_txt_test)\n",
    "df_train, df_valid = create_validation_set(df_train, 0.1)\n",
    "df_train_clean = clean_text(df_train)\n",
    "df_valid_clean = clean_text(df_valid)\n",
    "df_test_clean = clean_text(df_test)\n",
    "\n",
    "train_tokens = split_docs(df_train_clean)\n",
    "valid_tokens = split_docs(df_valid_clean)\n",
    "test_tokens = split_docs(df_test_clean)\n",
    "\n",
    "vocab, idx_train_tokens, word2idx = tokenize(train_tokens)\n",
    "_, idx_valid_tokens, _ = tokenize(valid_tokens)\n",
    "_, idx_test_tokens, _ = tokenize(test_tokens)\n",
    "\n",
    "pad_idx = word2idx['<PAD>']\n",
    "skipgrams_train = create_skipgrams(idx_train_tokens, window_size=2, pad_idx=pad_idx)\n",
    "skipgrams_valid = create_skipgrams(idx_valid_tokens, window_size=2, pad_idx=pad_idx)\n",
    "skipgrams_test = create_skipgrams(idx_test_tokens, window_size=2, pad_idx=pad_idx)\n",
    "\n",
    "train_batches = create_batches(skipgrams_train, word2idx, pad_idx, batch_size=512)\n",
    "valid_batches = create_batches(skipgrams_valid, word2idx, pad_idx, batch_size=512)\n",
    "test_batches = create_batches(skipgrams_test, word2idx, pad_idx, batch_size=512)"
   ]
  },
  {
   "cell_type": "code",
   "execution_count": 7,
   "metadata": {},
   "outputs": [
    {
     "name": "stderr",
     "output_type": "stream",
     "text": [
      "24-Jul-23 19:32:17 - INFO - Starting 'train'.\n",
      "24-Jul-23 19:33:21 - INFO - Epoch 0, Train Loss: 11005.139324033504, Validation Loss: 12427.67182134272\n",
      "24-Jul-23 19:34:26 - INFO - Epoch 1, Train Loss: 4304.808127507672, Validation Loss: 9142.847182724501\n",
      "24-Jul-23 19:35:29 - INFO - Epoch 2, Train Loss: 2716.1542937292415, Validation Loss: 6758.749054290436\n",
      "24-Jul-23 19:36:31 - INFO - Epoch 3, Train Loss: 1850.9295128452666, Validation Loss: 5199.562077448918\n",
      "24-Jul-23 19:37:37 - INFO - Epoch 4, Train Loss: 1382.2247705811515, Validation Loss: 4273.301761501438\n",
      "24-Jul-23 19:38:41 - INFO - Epoch 5, Train Loss: 1126.8104174800965, Validation Loss: 3729.056437062693\n",
      "24-Jul-23 19:39:44 - INFO - Epoch 6, Train Loss: 982.3881940734063, Validation Loss: 3406.6263769799534\n",
      "24-Jul-23 19:40:47 - INFO - Epoch 7, Train Loss: 895.8516813314844, Validation Loss: 3218.291761796553\n",
      "24-Jul-23 19:41:52 - INFO - Epoch 8, Train Loss: 840.1050793181545, Validation Loss: 3113.002150986221\n",
      "24-Jul-23 19:42:56 - INFO - Epoch 9, Train Loss: 801.5078498954342, Validation Loss: 3058.09329860813\n",
      "24-Jul-23 19:42:56 - INFO - Finished 'train' in 639.5655 secs.\n"
     ]
    }
   ],
   "source": [
    "vocab_size = len(vocab)\n",
    "model = CBOW_NS(vocab_size, conf.model.embedding.embed_size)\n",
    "trained_model, train_losses, val_losses = train(model, conf.model.embedding.epochs, train_batches, valid_batches, conf.model.embedding.lr)"
   ]
  },
  {
   "cell_type": "code",
   "execution_count": 8,
   "metadata": {},
   "outputs": [
    {
     "data": {
      "application/vnd.plotly.v1+json": {
       "config": {
        "plotlyServerURL": "https://plot.ly"
       },
       "data": [
        {
         "mode": "lines",
         "name": "Train Loss",
         "type": "scatter",
         "x": [
          1,
          2,
          3,
          4,
          5,
          6,
          7,
          8,
          9,
          10
         ],
         "y": [
          11005.139324033504,
          4304.808127507672,
          2716.1542937292415,
          1850.9295128452666,
          1382.2247705811515,
          1126.8104174800965,
          982.3881940734063,
          895.8516813314844,
          840.1050793181545,
          801.5078498954342
         ]
        },
        {
         "mode": "lines",
         "name": "Validation Loss",
         "type": "scatter",
         "x": [
          1,
          2,
          3,
          4,
          5,
          6,
          7,
          8,
          9,
          10
         ],
         "y": [
          12427.67182134272,
          9142.847182724501,
          6758.749054290436,
          5199.562077448918,
          4273.301761501438,
          3729.056437062693,
          3406.6263769799534,
          3218.291761796553,
          3113.002150986221,
          3058.09329860813
         ]
        }
       ],
       "layout": {
        "template": {
         "data": {
          "bar": [
           {
            "error_x": {
             "color": "#2a3f5f"
            },
            "error_y": {
             "color": "#2a3f5f"
            },
            "marker": {
             "line": {
              "color": "#E5ECF6",
              "width": 0.5
             },
             "pattern": {
              "fillmode": "overlay",
              "size": 10,
              "solidity": 0.2
             }
            },
            "type": "bar"
           }
          ],
          "barpolar": [
           {
            "marker": {
             "line": {
              "color": "#E5ECF6",
              "width": 0.5
             },
             "pattern": {
              "fillmode": "overlay",
              "size": 10,
              "solidity": 0.2
             }
            },
            "type": "barpolar"
           }
          ],
          "carpet": [
           {
            "aaxis": {
             "endlinecolor": "#2a3f5f",
             "gridcolor": "white",
             "linecolor": "white",
             "minorgridcolor": "white",
             "startlinecolor": "#2a3f5f"
            },
            "baxis": {
             "endlinecolor": "#2a3f5f",
             "gridcolor": "white",
             "linecolor": "white",
             "minorgridcolor": "white",
             "startlinecolor": "#2a3f5f"
            },
            "type": "carpet"
           }
          ],
          "choropleth": [
           {
            "colorbar": {
             "outlinewidth": 0,
             "ticks": ""
            },
            "type": "choropleth"
           }
          ],
          "contour": [
           {
            "colorbar": {
             "outlinewidth": 0,
             "ticks": ""
            },
            "colorscale": [
             [
              0,
              "#0d0887"
             ],
             [
              0.1111111111111111,
              "#46039f"
             ],
             [
              0.2222222222222222,
              "#7201a8"
             ],
             [
              0.3333333333333333,
              "#9c179e"
             ],
             [
              0.4444444444444444,
              "#bd3786"
             ],
             [
              0.5555555555555556,
              "#d8576b"
             ],
             [
              0.6666666666666666,
              "#ed7953"
             ],
             [
              0.7777777777777778,
              "#fb9f3a"
             ],
             [
              0.8888888888888888,
              "#fdca26"
             ],
             [
              1,
              "#f0f921"
             ]
            ],
            "type": "contour"
           }
          ],
          "contourcarpet": [
           {
            "colorbar": {
             "outlinewidth": 0,
             "ticks": ""
            },
            "type": "contourcarpet"
           }
          ],
          "heatmap": [
           {
            "colorbar": {
             "outlinewidth": 0,
             "ticks": ""
            },
            "colorscale": [
             [
              0,
              "#0d0887"
             ],
             [
              0.1111111111111111,
              "#46039f"
             ],
             [
              0.2222222222222222,
              "#7201a8"
             ],
             [
              0.3333333333333333,
              "#9c179e"
             ],
             [
              0.4444444444444444,
              "#bd3786"
             ],
             [
              0.5555555555555556,
              "#d8576b"
             ],
             [
              0.6666666666666666,
              "#ed7953"
             ],
             [
              0.7777777777777778,
              "#fb9f3a"
             ],
             [
              0.8888888888888888,
              "#fdca26"
             ],
             [
              1,
              "#f0f921"
             ]
            ],
            "type": "heatmap"
           }
          ],
          "heatmapgl": [
           {
            "colorbar": {
             "outlinewidth": 0,
             "ticks": ""
            },
            "colorscale": [
             [
              0,
              "#0d0887"
             ],
             [
              0.1111111111111111,
              "#46039f"
             ],
             [
              0.2222222222222222,
              "#7201a8"
             ],
             [
              0.3333333333333333,
              "#9c179e"
             ],
             [
              0.4444444444444444,
              "#bd3786"
             ],
             [
              0.5555555555555556,
              "#d8576b"
             ],
             [
              0.6666666666666666,
              "#ed7953"
             ],
             [
              0.7777777777777778,
              "#fb9f3a"
             ],
             [
              0.8888888888888888,
              "#fdca26"
             ],
             [
              1,
              "#f0f921"
             ]
            ],
            "type": "heatmapgl"
           }
          ],
          "histogram": [
           {
            "marker": {
             "pattern": {
              "fillmode": "overlay",
              "size": 10,
              "solidity": 0.2
             }
            },
            "type": "histogram"
           }
          ],
          "histogram2d": [
           {
            "colorbar": {
             "outlinewidth": 0,
             "ticks": ""
            },
            "colorscale": [
             [
              0,
              "#0d0887"
             ],
             [
              0.1111111111111111,
              "#46039f"
             ],
             [
              0.2222222222222222,
              "#7201a8"
             ],
             [
              0.3333333333333333,
              "#9c179e"
             ],
             [
              0.4444444444444444,
              "#bd3786"
             ],
             [
              0.5555555555555556,
              "#d8576b"
             ],
             [
              0.6666666666666666,
              "#ed7953"
             ],
             [
              0.7777777777777778,
              "#fb9f3a"
             ],
             [
              0.8888888888888888,
              "#fdca26"
             ],
             [
              1,
              "#f0f921"
             ]
            ],
            "type": "histogram2d"
           }
          ],
          "histogram2dcontour": [
           {
            "colorbar": {
             "outlinewidth": 0,
             "ticks": ""
            },
            "colorscale": [
             [
              0,
              "#0d0887"
             ],
             [
              0.1111111111111111,
              "#46039f"
             ],
             [
              0.2222222222222222,
              "#7201a8"
             ],
             [
              0.3333333333333333,
              "#9c179e"
             ],
             [
              0.4444444444444444,
              "#bd3786"
             ],
             [
              0.5555555555555556,
              "#d8576b"
             ],
             [
              0.6666666666666666,
              "#ed7953"
             ],
             [
              0.7777777777777778,
              "#fb9f3a"
             ],
             [
              0.8888888888888888,
              "#fdca26"
             ],
             [
              1,
              "#f0f921"
             ]
            ],
            "type": "histogram2dcontour"
           }
          ],
          "mesh3d": [
           {
            "colorbar": {
             "outlinewidth": 0,
             "ticks": ""
            },
            "type": "mesh3d"
           }
          ],
          "parcoords": [
           {
            "line": {
             "colorbar": {
              "outlinewidth": 0,
              "ticks": ""
             }
            },
            "type": "parcoords"
           }
          ],
          "pie": [
           {
            "automargin": true,
            "type": "pie"
           }
          ],
          "scatter": [
           {
            "fillpattern": {
             "fillmode": "overlay",
             "size": 10,
             "solidity": 0.2
            },
            "type": "scatter"
           }
          ],
          "scatter3d": [
           {
            "line": {
             "colorbar": {
              "outlinewidth": 0,
              "ticks": ""
             }
            },
            "marker": {
             "colorbar": {
              "outlinewidth": 0,
              "ticks": ""
             }
            },
            "type": "scatter3d"
           }
          ],
          "scattercarpet": [
           {
            "marker": {
             "colorbar": {
              "outlinewidth": 0,
              "ticks": ""
             }
            },
            "type": "scattercarpet"
           }
          ],
          "scattergeo": [
           {
            "marker": {
             "colorbar": {
              "outlinewidth": 0,
              "ticks": ""
             }
            },
            "type": "scattergeo"
           }
          ],
          "scattergl": [
           {
            "marker": {
             "colorbar": {
              "outlinewidth": 0,
              "ticks": ""
             }
            },
            "type": "scattergl"
           }
          ],
          "scattermapbox": [
           {
            "marker": {
             "colorbar": {
              "outlinewidth": 0,
              "ticks": ""
             }
            },
            "type": "scattermapbox"
           }
          ],
          "scatterpolar": [
           {
            "marker": {
             "colorbar": {
              "outlinewidth": 0,
              "ticks": ""
             }
            },
            "type": "scatterpolar"
           }
          ],
          "scatterpolargl": [
           {
            "marker": {
             "colorbar": {
              "outlinewidth": 0,
              "ticks": ""
             }
            },
            "type": "scatterpolargl"
           }
          ],
          "scatterternary": [
           {
            "marker": {
             "colorbar": {
              "outlinewidth": 0,
              "ticks": ""
             }
            },
            "type": "scatterternary"
           }
          ],
          "surface": [
           {
            "colorbar": {
             "outlinewidth": 0,
             "ticks": ""
            },
            "colorscale": [
             [
              0,
              "#0d0887"
             ],
             [
              0.1111111111111111,
              "#46039f"
             ],
             [
              0.2222222222222222,
              "#7201a8"
             ],
             [
              0.3333333333333333,
              "#9c179e"
             ],
             [
              0.4444444444444444,
              "#bd3786"
             ],
             [
              0.5555555555555556,
              "#d8576b"
             ],
             [
              0.6666666666666666,
              "#ed7953"
             ],
             [
              0.7777777777777778,
              "#fb9f3a"
             ],
             [
              0.8888888888888888,
              "#fdca26"
             ],
             [
              1,
              "#f0f921"
             ]
            ],
            "type": "surface"
           }
          ],
          "table": [
           {
            "cells": {
             "fill": {
              "color": "#EBF0F8"
             },
             "line": {
              "color": "white"
             }
            },
            "header": {
             "fill": {
              "color": "#C8D4E3"
             },
             "line": {
              "color": "white"
             }
            },
            "type": "table"
           }
          ]
         },
         "layout": {
          "annotationdefaults": {
           "arrowcolor": "#2a3f5f",
           "arrowhead": 0,
           "arrowwidth": 1
          },
          "autotypenumbers": "strict",
          "coloraxis": {
           "colorbar": {
            "outlinewidth": 0,
            "ticks": ""
           }
          },
          "colorscale": {
           "diverging": [
            [
             0,
             "#8e0152"
            ],
            [
             0.1,
             "#c51b7d"
            ],
            [
             0.2,
             "#de77ae"
            ],
            [
             0.3,
             "#f1b6da"
            ],
            [
             0.4,
             "#fde0ef"
            ],
            [
             0.5,
             "#f7f7f7"
            ],
            [
             0.6,
             "#e6f5d0"
            ],
            [
             0.7,
             "#b8e186"
            ],
            [
             0.8,
             "#7fbc41"
            ],
            [
             0.9,
             "#4d9221"
            ],
            [
             1,
             "#276419"
            ]
           ],
           "sequential": [
            [
             0,
             "#0d0887"
            ],
            [
             0.1111111111111111,
             "#46039f"
            ],
            [
             0.2222222222222222,
             "#7201a8"
            ],
            [
             0.3333333333333333,
             "#9c179e"
            ],
            [
             0.4444444444444444,
             "#bd3786"
            ],
            [
             0.5555555555555556,
             "#d8576b"
            ],
            [
             0.6666666666666666,
             "#ed7953"
            ],
            [
             0.7777777777777778,
             "#fb9f3a"
            ],
            [
             0.8888888888888888,
             "#fdca26"
            ],
            [
             1,
             "#f0f921"
            ]
           ],
           "sequentialminus": [
            [
             0,
             "#0d0887"
            ],
            [
             0.1111111111111111,
             "#46039f"
            ],
            [
             0.2222222222222222,
             "#7201a8"
            ],
            [
             0.3333333333333333,
             "#9c179e"
            ],
            [
             0.4444444444444444,
             "#bd3786"
            ],
            [
             0.5555555555555556,
             "#d8576b"
            ],
            [
             0.6666666666666666,
             "#ed7953"
            ],
            [
             0.7777777777777778,
             "#fb9f3a"
            ],
            [
             0.8888888888888888,
             "#fdca26"
            ],
            [
             1,
             "#f0f921"
            ]
           ]
          },
          "colorway": [
           "#636efa",
           "#EF553B",
           "#00cc96",
           "#ab63fa",
           "#FFA15A",
           "#19d3f3",
           "#FF6692",
           "#B6E880",
           "#FF97FF",
           "#FECB52"
          ],
          "font": {
           "color": "#2a3f5f"
          },
          "geo": {
           "bgcolor": "white",
           "lakecolor": "white",
           "landcolor": "#E5ECF6",
           "showlakes": true,
           "showland": true,
           "subunitcolor": "white"
          },
          "hoverlabel": {
           "align": "left"
          },
          "hovermode": "closest",
          "mapbox": {
           "style": "light"
          },
          "paper_bgcolor": "white",
          "plot_bgcolor": "#E5ECF6",
          "polar": {
           "angularaxis": {
            "gridcolor": "white",
            "linecolor": "white",
            "ticks": ""
           },
           "bgcolor": "#E5ECF6",
           "radialaxis": {
            "gridcolor": "white",
            "linecolor": "white",
            "ticks": ""
           }
          },
          "scene": {
           "xaxis": {
            "backgroundcolor": "#E5ECF6",
            "gridcolor": "white",
            "gridwidth": 2,
            "linecolor": "white",
            "showbackground": true,
            "ticks": "",
            "zerolinecolor": "white"
           },
           "yaxis": {
            "backgroundcolor": "#E5ECF6",
            "gridcolor": "white",
            "gridwidth": 2,
            "linecolor": "white",
            "showbackground": true,
            "ticks": "",
            "zerolinecolor": "white"
           },
           "zaxis": {
            "backgroundcolor": "#E5ECF6",
            "gridcolor": "white",
            "gridwidth": 2,
            "linecolor": "white",
            "showbackground": true,
            "ticks": "",
            "zerolinecolor": "white"
           }
          },
          "shapedefaults": {
           "line": {
            "color": "#2a3f5f"
           }
          },
          "ternary": {
           "aaxis": {
            "gridcolor": "white",
            "linecolor": "white",
            "ticks": ""
           },
           "baxis": {
            "gridcolor": "white",
            "linecolor": "white",
            "ticks": ""
           },
           "bgcolor": "#E5ECF6",
           "caxis": {
            "gridcolor": "white",
            "linecolor": "white",
            "ticks": ""
           }
          },
          "title": {
           "x": 0.05
          },
          "xaxis": {
           "automargin": true,
           "gridcolor": "white",
           "linecolor": "white",
           "ticks": "",
           "title": {
            "standoff": 15
           },
           "zerolinecolor": "white",
           "zerolinewidth": 2
          },
          "yaxis": {
           "automargin": true,
           "gridcolor": "white",
           "linecolor": "white",
           "ticks": "",
           "title": {
            "standoff": 15
           },
           "zerolinecolor": "white",
           "zerolinewidth": 2
          }
         }
        },
        "title": {
         "text": "Loss over Epochs"
        },
        "xaxis": {
         "title": {
          "text": "Epoch"
         }
        },
        "yaxis": {
         "title": {
          "text": "Loss"
         }
        }
       }
      }
     },
     "metadata": {},
     "output_type": "display_data"
    }
   ],
   "source": [
    "plot_losses(train_losses, val_losses, conf.model.embedding.epochs)"
   ]
  },
  {
   "cell_type": "code",
   "execution_count": 9,
   "metadata": {},
   "outputs": [],
   "source": [
    "embeddings = model.embeddings.weight.data.numpy()"
   ]
  },
  {
   "cell_type": "code",
   "execution_count": 10,
   "metadata": {},
   "outputs": [],
   "source": [
    "idx2word = {value: key for key, value in word2idx.items()}"
   ]
  },
  {
   "cell_type": "code",
   "execution_count": 11,
   "metadata": {},
   "outputs": [],
   "source": [
    "pca = PCA(n_components=2)  # reduce to 2 components\n",
    "embeddings_pca = pca.fit_transform(embeddings)"
   ]
  },
  {
   "cell_type": "code",
   "execution_count": 12,
   "metadata": {},
   "outputs": [
    {
     "data": {
      "image/png": "[encoded data removed]",
      "text/plain": [
       "<Figure size 432x288 with 1 Axes>"
      ]
     },
     "metadata": {
      "needs_background": "light"
     },
     "output_type": "display_data"
    }
   ],
   "source": [
    "# Plot some words\n",
    "words = ['china', 'beijing', 'russia', 'moscow', 'japan', 'tokyo', 'france', 'paris', 'germany', 'berlin']\n",
    "for word in words:\n",
    "    idx = word2idx[word]\n",
    "    plt.scatter(embeddings_pca[idx, 0], embeddings_pca[idx, 1])\n",
    "    plt.annotate(word, (embeddings_pca[idx, 0], embeddings_pca[idx, 1]))\n",
    "plt.show()"
   ]
  },
  {
   "cell_type": "code",
   "execution_count": 13,
   "metadata": {},
   "outputs": [],
   "source": [
    "def find_closest_embeddings(embedding, word, word2idx, idx2word, n=10):\n",
    "    # Get the embedding for the word\n",
    "    word_embedding = embedding[word2idx[word]]\n",
    "\n",
    "    # Compute cosine similarities between word_embedding and all embeddings\n",
    "    similarities = cosine_similarity([word_embedding], embedding)[0]\n",
    "\n",
    "    # Get the indices of the top n similar embeddings\n",
    "    closest_idxs = np.argsort(similarities)[-n:]\n",
    "\n",
    "    # Convert these indices back to words and return\n",
    "    closest_words_with_distances = [(idx2word[idx], similarities[idx]) for idx in reversed(closest_idxs)]\n",
    "\n",
    "    return closest_words_with_distances"
   ]
  },
  {
   "cell_type": "code",
   "execution_count": 14,
   "metadata": {},
   "outputs": [],
   "source": [
    "sample_words = [\"referendum\", \"venezuela\", \"war\", \"pope\", \"schumacher\", \"ferrari\", \"soccer\", \"cricket\"]"
   ]
  },
  {
   "cell_type": "code",
   "execution_count": 18,
   "metadata": {},
   "outputs": [
    {
     "name": "stdout",
     "output_type": "stream",
     "text": [
      "Closest words to 'referendum':\n",
      "referendum: 1.0000001192092896\n",
      "kamal: 0.40073469281196594\n",
      "recall: 0.39591097831726074\n",
      "veil: 0.34378424286842346\n",
      "marking: 0.3431364595890045\n",
      "\n",
      "Closest words to 'venezuela':\n",
      "venezuela: 1.0\n",
      "roy: 0.4125961363315582\n",
      "unsuccessful: 0.402940571308136\n",
      "forcibly: 0.37566354870796204\n",
      "moffett: 0.3735027611255646\n",
      "\n",
      "Closest words to 'war':\n",
      "war: 1.0\n",
      "crimes: 0.5158342123031616\n",
      "civil: 0.48663195967674255\n",
      "terror: 0.4587789475917816\n",
      "iraqi: 0.4506089687347412\n",
      "\n",
      "Closest words to 'pope':\n",
      "pope: 0.9999998807907104\n",
      "phishers: 0.40673336386680603\n",
      "nagpur: 0.38793933391571045\n",
      "pixar: 0.37529370188713074\n",
      "zoellick: 0.3609708547592163\n",
      "\n",
      "Closest words to 'schumacher':\n",
      "schumacher: 1.0000001192092896\n",
      "michael: 0.5231149792671204\n",
      "kanpur: 0.42215320467948914\n",
      "peacekeeping: 0.42100369930267334\n",
      "overwhelming: 0.3956893980503082\n",
      "\n",
      "Closest words to 'ferrari':\n",
      "ferrari: 1.0\n",
      "keeper: 0.4152476191520691\n",
      "steele: 0.39676085114479065\n",
      "philip: 0.37690484523773193\n",
      "cr: 0.35654178261756897\n",
      "\n",
      "Closest words to 'soccer':\n",
      "soccer: 1.0\n",
      "tennis: 0.4730041027069092\n",
      "football: 0.4708947241306305\n",
      "english: 0.46905550360679626\n",
      "womens: 0.4365655183792114\n",
      "\n",
      "Closest words to 'cricket':\n",
      "cricket: 0.9999998807907104\n",
      "match: 0.44146963953971863\n",
      "pro: 0.4271118640899658\n",
      "test: 0.42213869094848633\n",
      "league: 0.4186098873615265\n",
      "\n"
     ]
    }
   ],
   "source": [
    "for word in sample_words:\n",
    "    print(f\"Closest words to '{word}':\")\n",
    "    closest_words_with_distances = find_closest_embeddings(embeddings, word, word2idx, idx2word, n=5)\n",
    "    for close_word, distance in closest_words_with_distances:\n",
    "        print(f\"{close_word}: {distance}\")\n",
    "    print()"
   ]
  },
  {
   "cell_type": "code",
   "execution_count": 16,
   "metadata": {},
   "outputs": [],
   "source": [
    "embedding_dict = {word: embeddings[i] for i, word in enumerate(vocab)} # Create a dictionary {word: embedding}"
   ]
  },
  {
   "cell_type": "code",
   "execution_count": 20,
   "metadata": {},
   "outputs": [],
   "source": [
    "def average_embeddings(text: str, embeddings: dict) -> np.array:\n",
    "    \"\"\"\n",
    "    Calculates the average embeddings of a sentence.\n",
    "    \n",
    "    Args:\n",
    "        text (str): The sentence to calculate embeddings for.\n",
    "        embeddings (dict): The word embeddings.\n",
    "    \n",
    "    Returns:\n",
    "        np.array: The average embedding of the sentence.\n",
    "    \"\"\"\n",
    "    words = text.split()\n",
    "    return np.mean([embeddings.get(word, np.zeros((100,))) for word in words], axis=0)"
   ]
  },
  {
   "cell_type": "code",
   "execution_count": 23,
   "metadata": {},
   "outputs": [],
   "source": [
    "def create_batches_classifier(data: List[Tuple[List[np.ndarray], int]], batch_size: int, pad_value: np.ndarray) -> List[Tuple[torch.Tensor, torch.Tensor]]:\n",
    "    \"\"\"\n",
    "    Creates batches of text and label pairs for model training.\n",
    "\n",
    "    Parameters:\n",
    "    data (List[Tuple[List[np.ndarray], int]]): List of (text, label) pairs where text is a list of word embeddings and label is an integer.\n",
    "    batch_size (int): The size of each batch.\n",
    "    pad_value (np.ndarray): The value to use for padding.\n",
    "\n",
    "    Returns:\n",
    "    List[Tuple[torch.Tensor, torch.Tensor]]: List of batches.\n",
    "    \"\"\"\n",
    "    n = len(data)\n",
    "\n",
    "    # Shuffle data\n",
    "    random.shuffle(data)\n",
    "\n",
    "    batches = []\n",
    "\n",
    "    for batch_start in range(0, n, batch_size):\n",
    "        text_batch = []\n",
    "        label_batch = []\n",
    "\n",
    "        # Create batches\n",
    "        for text, label in data[batch_start:batch_start + batch_size]:\n",
    "            text_batch.append(torch.FloatTensor(text))\n",
    "            label_batch.append(torch.LongTensor([label]))\n",
    "\n",
    "        # If this is the last batch and it's not full, skip it\n",
    "        if len(text_batch) < batch_size:\n",
    "            continue\n",
    "\n",
    "        # Pad text sequences in batch\n",
    "        text_batch = pad_sequence(text_batch, batch_first=True, padding_value=pad_value)\n",
    "\n",
    "        # Convert label batch to tensor\n",
    "        label_batch = torch.cat(label_batch)\n",
    "\n",
    "        batches.append((text_batch, label_batch))\n",
    "        \n",
    "    return batches"
   ]
  },
  {
   "cell_type": "code",
   "execution_count": 21,
   "metadata": {},
   "outputs": [],
   "source": [
    "df_train_clean['embeddings'] = df_train_clean['description'].apply(lambda x: average_embeddings(x, embedding_dict))\n",
    "df_valid_clean['embeddings'] = df_valid_clean['description'].apply(lambda x: average_embeddings(x, embedding_dict))\n",
    "df_train_clean['class'] = df_train['label']\n",
    "df_valid_clean['class'] = df_valid['label']\n",
    "encoded_train_data = list(zip(df_train_clean['embeddings'], df_train_clean['class']))\n",
    "encoded_valid_data = list(zip(df_valid_clean['embeddings'], df_valid_clean['class']))"
   ]
  },
  {
   "cell_type": "code",
   "execution_count": 32,
   "metadata": {},
   "outputs": [],
   "source": [
    "train_batches = create_batches_classifier(encoded_train_data, batch_size=conf.model.classifier.batch_size, pad_value=0)\n",
    "valid_batches = create_batches_classifier(encoded_valid_data, batch_size=conf.model.classifier.batch_size, pad_value=0)"
   ]
  },
  {
   "cell_type": "code",
   "execution_count": 35,
   "metadata": {},
   "outputs": [],
   "source": [
    "def train_classifier(model: nn.Module, \n",
    "          epochs: int, \n",
    "          train_batches: List[Tuple[torch.Tensor, torch.Tensor]], \n",
    "          val_batches: List[Tuple[torch.Tensor, torch.Tensor]], \n",
    "          lr: float, \n",
    "          device: torch.device) -> Tuple[nn.Module, List[float], List[float]]:\n",
    "    \"\"\"\n",
    "    Trains the model for a specified number of epochs.\n",
    "\n",
    "    Parameters:\n",
    "    model (nn.Module): The model to train.\n",
    "    epochs (int): The number of epochs to train for.\n",
    "    train_batches (List[Tuple[torch.Tensor, torch.Tensor]]): Batches for the training data.\n",
    "    val_batches (List[Tuple[torch.Tensor, torch.Tensor]]): Batches for the validation data.\n",
    "    lr (float): The learning rate for the Adam optimizer.\n",
    "    device (torch.device): The device to train on.\n",
    "\n",
    "    Returns:\n",
    "    Tuple[nn.Module, List[float], List[float]]: The trained model and lists of training and validation losses over epochs.\n",
    "    \"\"\"\n",
    "    criterion = nn.NLLLoss()\n",
    "    optimizer = torch.optim.Adam(model.parameters(), lr=lr)\n",
    "\n",
    "    train_losses = []\n",
    "    val_losses = []\n",
    "\n",
    "    for epoch in range(epochs):\n",
    "        # Training\n",
    "        model.train()\n",
    "        total_loss = 0.0\n",
    "        for inputs, labels in train_batches:\n",
    "            optimizer.zero_grad()\n",
    "            inputs, labels = inputs.to(device), labels.to(device)\n",
    "\n",
    "            outputs = model(inputs)\n",
    "            loss = criterion(outputs, labels)\n",
    "            loss.backward()\n",
    "            optimizer.step()\n",
    "\n",
    "            total_loss += loss.item()\n",
    "        train_losses.append(total_loss / len(train_batches))\n",
    "\n",
    "        # Validation\n",
    "        model.eval()\n",
    "        total_loss = 0.0\n",
    "        with torch.no_grad():\n",
    "            for inputs, labels in val_batches:\n",
    "                inputs, labels = inputs.to(device), labels.to(device)\n",
    "\n",
    "                outputs = model(inputs)\n",
    "                loss = criterion(outputs, labels)\n",
    "                total_loss += loss.item()\n",
    "        val_losses.append(total_loss / len(val_batches))\n",
    "\n",
    "        print(f'Epoch {epoch+1}, Train Loss: {train_losses[-1]}, Validation Loss: {val_losses[-1]}')\n",
    "\n",
    "    return model, train_losses, val_losses"
   ]
  },
  {
   "cell_type": "code",
   "execution_count": 36,
   "metadata": {},
   "outputs": [
    {
     "ename": "TypeError",
     "evalue": "forward() missing 2 required positional arguments: 'target_word' and 'negative_words'",
     "output_type": "error",
     "traceback": [
      "\u001b[0;31m---------------------------------------------------------------------------\u001b[0m",
      "\u001b[0;31mTypeError\u001b[0m                                 Traceback (most recent call last)",
      "\u001b[1;32m/Users/ashwineekumarpandey/Documents/Development/MLAI/GitHub/mlai-natural-language-processing/notebooks/A3-classify-text.ipynb Cell 21\u001b[0m in \u001b[0;36m<cell line: 1>\u001b[0;34m()\u001b[0m\n\u001b[0;32m----> <a href='vscode-notebook-cell:/Users/ashwineekumarpandey/Documents/Development/MLAI/GitHub/mlai-natural-language-processing/notebooks/A3-classify-text.ipynb#X25sZmlsZQ%3D%3D?line=0'>1</a>\u001b[0m model, train_losses, val_losses \u001b[39m=\u001b[39m train_classifier(model, conf\u001b[39m.\u001b[39;49mmodel\u001b[39m.\u001b[39;49mclassifier\u001b[39m.\u001b[39;49mepochs, train_batches, valid_batches, conf\u001b[39m.\u001b[39;49mmodel\u001b[39m.\u001b[39;49mclassifier\u001b[39m.\u001b[39;49mlr, torch\u001b[39m.\u001b[39;49mdevice(\u001b[39m'\u001b[39;49m\u001b[39mcpu\u001b[39;49m\u001b[39m'\u001b[39;49m))\n",
      "\u001b[1;32m/Users/ashwineekumarpandey/Documents/Development/MLAI/GitHub/mlai-natural-language-processing/notebooks/A3-classify-text.ipynb Cell 21\u001b[0m in \u001b[0;36mtrain_classifier\u001b[0;34m(model, epochs, train_batches, val_batches, lr, device)\u001b[0m\n\u001b[1;32m     <a href='vscode-notebook-cell:/Users/ashwineekumarpandey/Documents/Development/MLAI/GitHub/mlai-natural-language-processing/notebooks/A3-classify-text.ipynb#X25sZmlsZQ%3D%3D?line=31'>32</a>\u001b[0m optimizer\u001b[39m.\u001b[39mzero_grad()\n\u001b[1;32m     <a href='vscode-notebook-cell:/Users/ashwineekumarpandey/Documents/Development/MLAI/GitHub/mlai-natural-language-processing/notebooks/A3-classify-text.ipynb#X25sZmlsZQ%3D%3D?line=32'>33</a>\u001b[0m inputs, labels \u001b[39m=\u001b[39m inputs\u001b[39m.\u001b[39mto(device), labels\u001b[39m.\u001b[39mto(device)\n\u001b[0;32m---> <a href='vscode-notebook-cell:/Users/ashwineekumarpandey/Documents/Development/MLAI/GitHub/mlai-natural-language-processing/notebooks/A3-classify-text.ipynb#X25sZmlsZQ%3D%3D?line=34'>35</a>\u001b[0m outputs \u001b[39m=\u001b[39m model(inputs)\n\u001b[1;32m     <a href='vscode-notebook-cell:/Users/ashwineekumarpandey/Documents/Development/MLAI/GitHub/mlai-natural-language-processing/notebooks/A3-classify-text.ipynb#X25sZmlsZQ%3D%3D?line=35'>36</a>\u001b[0m loss \u001b[39m=\u001b[39m criterion(outputs, labels)\n\u001b[1;32m     <a href='vscode-notebook-cell:/Users/ashwineekumarpandey/Documents/Development/MLAI/GitHub/mlai-natural-language-processing/notebooks/A3-classify-text.ipynb#X25sZmlsZQ%3D%3D?line=36'>37</a>\u001b[0m loss\u001b[39m.\u001b[39mbackward()\n",
      "File \u001b[0;32m/opt/homebrew/Caskroom/miniforge/base/envs/mlai_nlp/lib/python3.9/site-packages/torch/nn/modules/module.py:1501\u001b[0m, in \u001b[0;36mModule._call_impl\u001b[0;34m(self, *args, **kwargs)\u001b[0m\n\u001b[1;32m   1496\u001b[0m \u001b[39m# If we don't have any hooks, we want to skip the rest of the logic in\u001b[39;00m\n\u001b[1;32m   1497\u001b[0m \u001b[39m# this function, and just call forward.\u001b[39;00m\n\u001b[1;32m   1498\u001b[0m \u001b[39mif\u001b[39;00m \u001b[39mnot\u001b[39;00m (\u001b[39mself\u001b[39m\u001b[39m.\u001b[39m_backward_hooks \u001b[39mor\u001b[39;00m \u001b[39mself\u001b[39m\u001b[39m.\u001b[39m_backward_pre_hooks \u001b[39mor\u001b[39;00m \u001b[39mself\u001b[39m\u001b[39m.\u001b[39m_forward_hooks \u001b[39mor\u001b[39;00m \u001b[39mself\u001b[39m\u001b[39m.\u001b[39m_forward_pre_hooks\n\u001b[1;32m   1499\u001b[0m         \u001b[39mor\u001b[39;00m _global_backward_pre_hooks \u001b[39mor\u001b[39;00m _global_backward_hooks\n\u001b[1;32m   1500\u001b[0m         \u001b[39mor\u001b[39;00m _global_forward_hooks \u001b[39mor\u001b[39;00m _global_forward_pre_hooks):\n\u001b[0;32m-> 1501\u001b[0m     \u001b[39mreturn\u001b[39;00m forward_call(\u001b[39m*\u001b[39;49margs, \u001b[39m*\u001b[39;49m\u001b[39m*\u001b[39;49mkwargs)\n\u001b[1;32m   1502\u001b[0m \u001b[39m# Do not call functions when jit is used\u001b[39;00m\n\u001b[1;32m   1503\u001b[0m full_backward_hooks, non_full_backward_hooks \u001b[39m=\u001b[39m [], []\n",
      "\u001b[0;31mTypeError\u001b[0m: forward() missing 2 required positional arguments: 'target_word' and 'negative_words'"
     ]
    }
   ],
   "source": [
    "model, train_losses, val_losses = train_classifier(model, conf.model.classifier.epochs, train_batches, valid_batches, conf.model.classifier.lr, torch.device('cpu'))"
   ]
  },
  {
   "cell_type": "code",
   "execution_count": null,
   "metadata": {},
   "outputs": [],
   "source": []
  },
  {
   "cell_type": "code",
   "execution_count": null,
   "metadata": {},
   "outputs": [],
   "source": []
  },
  {
   "cell_type": "code",
   "execution_count": null,
   "metadata": {},
   "outputs": [],
   "source": []
  },
  {
   "cell_type": "code",
   "execution_count": null,
   "metadata": {},
   "outputs": [],
   "source": []
  }
 ],
 "metadata": {
  "kernelspec": {
   "display_name": "mlai_nlp",
   "language": "python",
   "name": "python3"
  },
  "language_info": {
   "codemirror_mode": {
    "name": "ipython",
    "version": 3
   },
   "file_extension": ".py",
   "mimetype": "text/x-python",
   "name": "python",
   "nbconvert_exporter": "python",
   "pygments_lexer": "ipython3",
   "version": "3.9.10"
  },
  "orig_nbformat": 4
 },
 "nbformat": 4,
 "nbformat_minor": 2
}
